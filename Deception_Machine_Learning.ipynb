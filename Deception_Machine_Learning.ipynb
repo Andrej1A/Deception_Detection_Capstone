{
 "cells": [
  {
   "cell_type": "code",
   "execution_count": 2,
   "metadata": {},
   "outputs": [],
   "source": [
    "# Packages for Data\n",
    "import numpy as np\n",
    "import pandas as pd\n",
    "import os\n",
    "\n",
    "# Packages for Graphics\n",
    "import matplotlib as mpl\n",
    "import matplotlib.pyplot as plt\n",
    "import seaborn as sns\n",
    "\n",
    "# Packages for NLP\n",
    "import re\n",
    "from collections import Counter\n",
    "from nltk.tokenize import sent_tokenize\n",
    "from nltk.tokenize import word_tokenize\n",
    "from nltk.stem import WordNetLemmatizer\n",
    "from sklearn.feature_extraction.text import CountVectorizer\n",
    "\n",
    "# Packages for ML\n",
    "from sklearn import metrics\n",
    "from sklearn.naive_bayes import MultinomialNB\n",
    "\n",
    "from scipy import stats\n",
    "import statsmodels.api as sm\n",
    "from statsmodels.formula.api import ols\n",
    "from statsmodels.stats.multicomp import pairwise_tukeyhsd\n",
    "from statsmodels.stats.multicomp import MultiComparison\n",
    "\n",
    "from sklearn.model_selection import train_test_split\n",
    "from sklearn.model_selection import KFold\n",
    "from sklearn.model_selection import GridSearchCV\n",
    "from sklearn.preprocessing import OneHotEncoder\n",
    "from sklearn.linear_model import LogisticRegression\n",
    "from sklearn.metrics import accuracy_score"
   ]
  },
  {
   "cell_type": "code",
   "execution_count": 20,
   "metadata": {},
   "outputs": [],
   "source": [
    "# Use cleaner absolute path to find file\n",
    "path = os.path.abspath('politifact_cleaned_data.csv')\n",
    "df = pd.read_csv(path, index_col=0)"
   ]
  },
  {
   "cell_type": "code",
   "execution_count": 21,
   "metadata": {},
   "outputs": [
    {
     "data": {
      "text/html": [
       "<div>\n",
       "<style scoped>\n",
       "    .dataframe tbody tr th:only-of-type {\n",
       "        vertical-align: middle;\n",
       "    }\n",
       "\n",
       "    .dataframe tbody tr th {\n",
       "        vertical-align: top;\n",
       "    }\n",
       "\n",
       "    .dataframe thead th {\n",
       "        text-align: right;\n",
       "    }\n",
       "</style>\n",
       "<table border=\"1\" class=\"dataframe\">\n",
       "  <thead>\n",
       "    <tr style=\"text-align: right;\">\n",
       "      <th></th>\n",
       "      <th>date</th>\n",
       "      <th>source</th>\n",
       "      <th>freq</th>\n",
       "      <th>statement</th>\n",
       "      <th>veracity</th>\n",
       "    </tr>\n",
       "  </thead>\n",
       "  <tbody>\n",
       "    <tr>\n",
       "      <th>18</th>\n",
       "      <td>2019-10-23</td>\n",
       "      <td>Jeremy Thiesfeldt</td>\n",
       "      <td>1</td>\n",
       "      <td>\"The vast majority of Wisconsin students cannot even read, write, or do math at grade level.\"</td>\n",
       "      <td>False</td>\n",
       "    </tr>\n",
       "    <tr>\n",
       "      <th>61</th>\n",
       "      <td>2019-10-10</td>\n",
       "      <td>David McKinley</td>\n",
       "      <td>1</td>\n",
       "      <td>\"About 95 percent of America’s production of ethylene is produced on the Gulf Coast in Texas and Louisiana.\"</td>\n",
       "      <td>True</td>\n",
       "    </tr>\n",
       "    <tr>\n",
       "      <th>91</th>\n",
       "      <td>2019-10-01</td>\n",
       "      <td>Gwen Moore</td>\n",
       "      <td>3</td>\n",
       "      <td>\"More than half of death row prisoners are people of color.\"</td>\n",
       "      <td>True</td>\n",
       "    </tr>\n",
       "    <tr>\n",
       "      <th>208</th>\n",
       "      <td>2019-08-28</td>\n",
       "      <td>Tony Evers</td>\n",
       "      <td>2</td>\n",
       "      <td>\"1 out of every 4 car accidents in the U.S. is caused by texting and driving.\"</td>\n",
       "      <td>False</td>\n",
       "    </tr>\n",
       "    <tr>\n",
       "      <th>295</th>\n",
       "      <td>2019-08-06</td>\n",
       "      <td>Ron Tusler</td>\n",
       "      <td>1</td>\n",
       "      <td>\"Less mass shootings under Trump!\"</td>\n",
       "      <td>Pants on Fire!</td>\n",
       "    </tr>\n",
       "  </tbody>\n",
       "</table>\n",
       "</div>"
      ],
      "text/plain": [
       "           date             source  freq  \\\n",
       "18   2019-10-23  Jeremy Thiesfeldt     1   \n",
       "61   2019-10-10     David McKinley     1   \n",
       "91   2019-10-01         Gwen Moore     3   \n",
       "208  2019-08-28         Tony Evers     2   \n",
       "295  2019-08-06         Ron Tusler     1   \n",
       "\n",
       "                                                                                                        statement  \\\n",
       "18                  \"The vast majority of Wisconsin students cannot even read, write, or do math at grade level.\"   \n",
       "61   \"About 95 percent of America’s production of ethylene is produced on the Gulf Coast in Texas and Louisiana.\"   \n",
       "91                                                   \"More than half of death row prisoners are people of color.\"   \n",
       "208                                \"1 out of every 4 car accidents in the U.S. is caused by texting and driving.\"   \n",
       "295                                                                            \"Less mass shootings under Trump!\"   \n",
       "\n",
       "           veracity  \n",
       "18            False  \n",
       "61             True  \n",
       "91             True  \n",
       "208           False  \n",
       "295  Pants on Fire!  "
      ]
     },
     "execution_count": 21,
     "metadata": {},
     "output_type": "execute_result"
    }
   ],
   "source": [
    "# to see statement in full\n",
    "pd.set_option('display.max_colwidth', 200) \n",
    "df[0:25:5]"
   ]
  },
  {
   "cell_type": "code",
   "execution_count": 27,
   "metadata": {},
   "outputs": [
    {
     "name": "stdout",
     "output_type": "stream",
     "text": [
      "<class 'pandas.core.frame.DataFrame'>\n",
      "Int64Index: 1455 entries, 18 to 16610\n",
      "Data columns (total 5 columns):\n",
      "date         1455 non-null object\n",
      "source       1455 non-null object\n",
      "freq         1455 non-null int64\n",
      "statement    1455 non-null object\n",
      "veracity     1455 non-null object\n",
      "dtypes: int64(1), object(4)\n",
      "memory usage: 68.2+ KB\n"
     ]
    }
   ],
   "source": [
    "df.info()"
   ]
  },
  {
   "cell_type": "code",
   "execution_count": 28,
   "metadata": {},
   "outputs": [
    {
     "data": {
      "text/plain": [
       "False             576\n",
       "True              571\n",
       "Pants on Fire!    308\n",
       "Name: veracity, dtype: int64"
      ]
     },
     "execution_count": 28,
     "metadata": {},
     "output_type": "execute_result"
    }
   ],
   "source": [
    "df.veracity.value_counts()"
   ]
  },
  {
   "cell_type": "markdown",
   "metadata": {},
   "source": [
    "# Baseline multinomial naive bayes model with no preprocessing using only the \"statement\" feature"
   ]
  },
  {
   "cell_type": "code",
   "execution_count": 22,
   "metadata": {},
   "outputs": [
    {
     "name": "stdout",
     "output_type": "stream",
     "text": [
      "['000', '02', '05', '054th', '06', '07', '08', '09', '095', '10']\n"
     ]
    }
   ],
   "source": [
    "# Create a series to store the labels\n",
    "X = df.statement\n",
    "y = df.veracity\n",
    "\n",
    "# Create training and test sets\n",
    "X_train, X_test, y_train, y_test = train_test_split(\n",
    "    X, y, test_size = 0.1, random_state = 0)\n",
    "\n",
    "# Initialize a CountVectorizer object\n",
    "count_vectorizer = CountVectorizer()\n",
    "\n",
    "# Transform the training data using only the 'statement' column values \n",
    "count_train = count_vectorizer.fit_transform(X_train)\n",
    "\n",
    "# Transform the test data using only the 'statement' column values \n",
    "count_test = count_vectorizer.transform(X_test)\n",
    "\n",
    "# Print the first 10 features of the count_vectorizer\n",
    "print(count_vectorizer.get_feature_names()[:10])"
   ]
  },
  {
   "cell_type": "code",
   "execution_count": 23,
   "metadata": {},
   "outputs": [
    {
     "name": "stdout",
     "output_type": "stream",
     "text": [
      "0.4589041095890411\n",
      "[[28 24  0]\n",
      " [31 33  4]\n",
      " [ 5 15  6]]\n"
     ]
    }
   ],
   "source": [
    "# Instantiate a Multinomial Naive Bayes classifier\n",
    "model = MultinomialNB()\n",
    "\n",
    "# Fit the classifier to the training data\n",
    "model.fit(count_train, y_train)\n",
    "\n",
    "# Create the predicted tags: pred\n",
    "pred = model.predict(count_test)\n",
    "\n",
    "# Calculate the accuracy score\n",
    "score = metrics.accuracy_score(y_test,pred)\n",
    "print(score)\n",
    "\n",
    "# Calculate the confusion matrix\n",
    "cm = metrics.confusion_matrix(y_test,pred,labels=[\"True\", \"False\", \"Pants on Fire!\"])\n",
    "print(cm)"
   ]
  },
  {
   "cell_type": "markdown",
   "metadata": {},
   "source": [
    "# 46% accuracy"
   ]
  },
  {
   "cell_type": "markdown",
   "metadata": {},
   "source": [
    "# What if we combine false and pants on fire"
   ]
  },
  {
   "cell_type": "code",
   "execution_count": 24,
   "metadata": {},
   "outputs": [],
   "source": [
    "# let's use this later\n",
    "simple_df = df.copy() \n",
    "simple_df.veracity = simple_df.veracity.map({'False': 'False', 'True': 'True', 'Pants on Fire!': 'False'})"
   ]
  },
  {
   "cell_type": "code",
   "execution_count": 25,
   "metadata": {},
   "outputs": [
    {
     "name": "stdout",
     "output_type": "stream",
     "text": [
      "['000', '02', '05', '054th', '06', '07', '08', '09', '095', '10']\n"
     ]
    }
   ],
   "source": [
    "# Create a series to store the labels\n",
    "X = simple_df.statement\n",
    "y = simple_df.veracity\n",
    "\n",
    "# Create training and test sets\n",
    "X_train, X_test, y_train, y_test = train_test_split(\n",
    "    X, y, test_size = 0.1, random_state = 0)\n",
    "\n",
    "# Initialize a CountVectorizer object\n",
    "count_vectorizer = CountVectorizer()\n",
    "\n",
    "# Transform the training data using only the 'text' column values \n",
    "count_train = count_vectorizer.fit_transform(X_train)\n",
    "\n",
    "# Transform the test data using only the 'text' column values \n",
    "count_test = count_vectorizer.transform(X_test)\n",
    "\n",
    "# Print the first 10 features of the count_vectorizer\n",
    "print(count_vectorizer.get_feature_names()[:10])"
   ]
  },
  {
   "cell_type": "code",
   "execution_count": 26,
   "metadata": {},
   "outputs": [
    {
     "name": "stdout",
     "output_type": "stream",
     "text": [
      "0.6232876712328768\n",
      "[[26 26]\n",
      " [29 65]]\n"
     ]
    }
   ],
   "source": [
    "# Instantiate a Multinomial Naive Bayes classifier\n",
    "model = MultinomialNB()\n",
    "\n",
    "# Fit the classifier to the training data\n",
    "model.fit(count_train, y_train)\n",
    "\n",
    "# Create the predicted tags: pred\n",
    "pred = model.predict(count_test)\n",
    "\n",
    "# Calculate the accuracy score\n",
    "score = metrics.accuracy_score(y_test,pred)\n",
    "print(score)\n",
    "\n",
    "# Calculate the confusion matrix\n",
    "cm = metrics.confusion_matrix(y_test,pred,labels=[\"True\", \"False\"])\n",
    "print(cm)"
   ]
  },
  {
   "cell_type": "markdown",
   "metadata": {},
   "source": [
    "# 62% accuracy"
   ]
  },
  {
   "cell_type": "code",
   "execution_count": null,
   "metadata": {},
   "outputs": [],
   "source": []
  }
 ],
 "metadata": {
  "kernelspec": {
   "display_name": "Python 3",
   "language": "python",
   "name": "python3"
  },
  "language_info": {
   "codemirror_mode": {
    "name": "ipython",
    "version": 3
   },
   "file_extension": ".py",
   "mimetype": "text/x-python",
   "name": "python",
   "nbconvert_exporter": "python",
   "pygments_lexer": "ipython3",
   "version": "3.7.3"
  }
 },
 "nbformat": 4,
 "nbformat_minor": 2
}
