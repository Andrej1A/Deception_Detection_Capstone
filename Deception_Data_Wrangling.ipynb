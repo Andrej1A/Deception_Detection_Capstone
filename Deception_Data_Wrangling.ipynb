{
 "cells": [
  {
   "cell_type": "code",
   "execution_count": 1,
   "metadata": {},
   "outputs": [],
   "source": [
    "# Packages for Data Wrangling\n",
    "import numpy as np\n",
    "import pandas as pd\n",
    "import os\n",
    "\n",
    "# For graphs\n",
    "import matplotlib as mpl\n",
    "import matplotlib.pyplot as plt\n",
    "import seaborn as sns"
   ]
  },
  {
   "cell_type": "code",
   "execution_count": 2,
   "metadata": {},
   "outputs": [],
   "source": [
    "# Use cleaner absolute path to find file\n",
    "path = os.path.abspath('politifact.csv')\n",
    "df = pd.read_csv(path, index_col=0)"
   ]
  },
  {
   "cell_type": "code",
   "execution_count": 3,
   "metadata": {},
   "outputs": [
    {
     "name": "stdout",
     "output_type": "stream",
     "text": [
      "<class 'pandas.core.frame.DataFrame'>\n",
      "Int64Index: 16611 entries, 0 to 16610\n",
      "Data columns (total 4 columns):\n",
      "statement    16611 non-null object\n",
      "source       16611 non-null object\n",
      "link         16611 non-null object\n",
      "veracity     16611 non-null object\n",
      "dtypes: object(4)\n",
      "memory usage: 648.9+ KB\n"
     ]
    }
   ],
   "source": [
    "# Check for null values and total number of rows\n",
    "df.info()"
   ]
  },
  {
   "cell_type": "code",
   "execution_count": 4,
   "metadata": {},
   "outputs": [
    {
     "data": {
      "text/html": [
       "<div>\n",
       "<style scoped>\n",
       "    .dataframe tbody tr th:only-of-type {\n",
       "        vertical-align: middle;\n",
       "    }\n",
       "\n",
       "    .dataframe tbody tr th {\n",
       "        vertical-align: top;\n",
       "    }\n",
       "\n",
       "    .dataframe thead th {\n",
       "        text-align: right;\n",
       "    }\n",
       "</style>\n",
       "<table border=\"1\" class=\"dataframe\">\n",
       "  <thead>\n",
       "    <tr style=\"text-align: right;\">\n",
       "      <th></th>\n",
       "      <th>statement</th>\n",
       "      <th>source</th>\n",
       "      <th>link</th>\n",
       "      <th>veracity</th>\n",
       "    </tr>\n",
       "  </thead>\n",
       "  <tbody>\n",
       "    <tr>\n",
       "      <th>0</th>\n",
       "      <td>Says that in 1770 \"British parliament banned lipstick, saying it had the power to seduce men into marriage, which was classified as witchcraft.\"</td>\n",
       "      <td>Facebook posts</td>\n",
       "      <td>/facebook-fact-checks/statements/2019/oct/25/facebook-posts/no-british-parliament-didnt-ban-witchcraft-lipstic/</td>\n",
       "      <td>Pants on Fire!</td>\n",
       "    </tr>\n",
       "    <tr>\n",
       "      <th>1</th>\n",
       "      <td>Says Ann Landers said, \"At age 20, we worry about what others think of us. At age 40, we don’t care what they think. At age 60, we discover that they have not been thinking of us at all.\"</td>\n",
       "      <td>Viral image</td>\n",
       "      <td>/facebook-fact-checks/statements/2019/oct/25/viral-image/no-evidence-ann-landers-said-quote-about-age/</td>\n",
       "      <td>False</td>\n",
       "    </tr>\n",
       "    <tr>\n",
       "      <th>2</th>\n",
       "      <td>\"General Motors is making record profits.\"</td>\n",
       "      <td>Glenn Kage</td>\n",
       "      <td>/missouri/statements/2019/oct/25/glenn-kage/general-motors-profits-have-been-record-setting-no/</td>\n",
       "      <td>Half-True</td>\n",
       "    </tr>\n",
       "  </tbody>\n",
       "</table>\n",
       "</div>"
      ],
      "text/plain": [
       "                                                                                                                                                                                     statement  \\\n",
       "0                                             Says that in 1770 \"British parliament banned lipstick, saying it had the power to seduce men into marriage, which was classified as witchcraft.\"   \n",
       "1  Says Ann Landers said, \"At age 20, we worry about what others think of us. At age 40, we don’t care what they think. At age 60, we discover that they have not been thinking of us at all.\"   \n",
       "2                                                                                                                                                   \"General Motors is making record profits.\"   \n",
       "\n",
       "           source  \\\n",
       "0  Facebook posts   \n",
       "1     Viral image   \n",
       "2      Glenn Kage   \n",
       "\n",
       "                                                                                                              link  \\\n",
       "0  /facebook-fact-checks/statements/2019/oct/25/facebook-posts/no-british-parliament-didnt-ban-witchcraft-lipstic/   \n",
       "1           /facebook-fact-checks/statements/2019/oct/25/viral-image/no-evidence-ann-landers-said-quote-about-age/   \n",
       "2                  /missouri/statements/2019/oct/25/glenn-kage/general-motors-profits-have-been-record-setting-no/   \n",
       "\n",
       "         veracity  \n",
       "0  Pants on Fire!  \n",
       "1           False  \n",
       "2       Half-True  "
      ]
     },
     "execution_count": 4,
     "metadata": {},
     "output_type": "execute_result"
    }
   ],
   "source": [
    "# to see statement in full\n",
    "pd.set_option('display.max_colwidth', 200) \n",
    "\n",
    "# See sample of data\n",
    "df.head(3)"
   ]
  },
  {
   "cell_type": "code",
   "execution_count": 5,
   "metadata": {},
   "outputs": [],
   "source": [
    "# remove \"link\" column as not meaningful for this analysis\n",
    "df2 = df[[\"source\",\"statement\",\"veracity\"]]"
   ]
  },
  {
   "cell_type": "code",
   "execution_count": 6,
   "metadata": {},
   "outputs": [
    {
     "data": {
      "text/plain": [
       "False             3274\n",
       "Half-True         3158\n",
       "Mostly True       3010\n",
       "Mostly False      2756\n",
       "True              2340\n",
       "Pants on Fire!    1817\n",
       "Full Flop          159\n",
       "Half Flip           70\n",
       "No Flip             27\n",
       "Name: veracity, dtype: int64"
      ]
     },
     "execution_count": 6,
     "metadata": {},
     "output_type": "execute_result"
    }
   ],
   "source": [
    "# check groups that exist in veracity column\n",
    "df2.veracity.value_counts()"
   ]
  },
  {
   "cell_type": "code",
   "execution_count": 7,
   "metadata": {},
   "outputs": [],
   "source": [
    "# Full Flop, Half Flip, and No Flip have nothing to do with veracity\n",
    "# remove non-exclusive groups and Flop groups\n",
    "df3 = df2[df2.isin(['True',\n",
    "                    'False',\n",
    "                    'Pants on Fire!']).any(axis=1)]"
   ]
  },
  {
   "cell_type": "code",
   "execution_count": 8,
   "metadata": {},
   "outputs": [
    {
     "name": "stdout",
     "output_type": "stream",
     "text": [
      "<class 'pandas.core.frame.DataFrame'>\n",
      "Int64Index: 7431 entries, 0 to 16610\n",
      "Data columns (total 3 columns):\n",
      "source       7431 non-null object\n",
      "statement    7431 non-null object\n",
      "veracity     7431 non-null object\n",
      "dtypes: object(3)\n",
      "memory usage: 232.2+ KB\n"
     ]
    }
   ],
   "source": [
    "# The total number of rows should sum to 7431 (false(3274) + true(2340) + pants on fire(1817) = 7431)\n",
    "df3.info()"
   ]
  },
  {
   "cell_type": "code",
   "execution_count": 9,
   "metadata": {},
   "outputs": [
    {
     "data": {
      "text/plain": [
       "False             3274\n",
       "True              2340\n",
       "Pants on Fire!    1817\n",
       "Name: veracity, dtype: int64"
      ]
     },
     "execution_count": 9,
     "metadata": {},
     "output_type": "execute_result"
    }
   ],
   "source": [
    "df3.veracity.value_counts()"
   ]
  },
  {
   "cell_type": "markdown",
   "metadata": {},
   "source": [
    "# For the purposes of this analysis, \"false\" and \"pants on fire\" can be treated as equivalent, i.e., false statements. This does lead to a slight imbalance of classes (many more false statements than true statements)."
   ]
  },
  {
   "cell_type": "code",
   "execution_count": 10,
   "metadata": {},
   "outputs": [
    {
     "name": "stderr",
     "output_type": "stream",
     "text": [
      "/anaconda3/lib/python3.7/site-packages/pandas/core/generic.py:5096: SettingWithCopyWarning: \n",
      "A value is trying to be set on a copy of a slice from a DataFrame.\n",
      "Try using .loc[row_indexer,col_indexer] = value instead\n",
      "\n",
      "See the caveats in the documentation: http://pandas.pydata.org/pandas-docs/stable/indexing.html#indexing-view-versus-copy\n",
      "  self[name] = value\n"
     ]
    }
   ],
   "source": [
    "df3.veracity = df3.veracity.map({'False': 'False', 'True': 'True', 'Pants on Fire!': 'False'})"
   ]
  },
  {
   "cell_type": "code",
   "execution_count": 11,
   "metadata": {},
   "outputs": [
    {
     "data": {
      "text/plain": [
       "False    5091\n",
       "True     2340\n",
       "Name: veracity, dtype: int64"
      ]
     },
     "execution_count": 11,
     "metadata": {},
     "output_type": "execute_result"
    }
   ],
   "source": [
    "# The total number of false rows should sum to 5091 (false(3274) + pants on fire(1817) = 5091)\n",
    "df3.veracity.value_counts()"
   ]
  },
  {
   "cell_type": "markdown",
   "metadata": {},
   "source": [
    "# Can we remove Facebook posts, Viral images, Chain emails and any other \"groups\" to focus on \"individuals\" ?"
   ]
  },
  {
   "cell_type": "code",
   "execution_count": 12,
   "metadata": {
    "scrolled": false
   },
   "outputs": [
    {
     "data": {
      "text/plain": [
       "2469"
      ]
     },
     "execution_count": 12,
     "metadata": {},
     "output_type": "execute_result"
    }
   ],
   "source": [
    "# see number of sources\n",
    "len(df3.source.unique())"
   ]
  },
  {
   "cell_type": "markdown",
   "metadata": {},
   "source": [
    "# There are over 2000 unique sources, therefore removing \"groups\" from \"individuals\" by hand would be prone to error"
   ]
  },
  {
   "cell_type": "code",
   "execution_count": 13,
   "metadata": {
    "scrolled": true
   },
   "outputs": [
    {
     "data": {
      "text/html": [
       "<div>\n",
       "<style scoped>\n",
       "    .dataframe tbody tr th:only-of-type {\n",
       "        vertical-align: middle;\n",
       "    }\n",
       "\n",
       "    .dataframe tbody tr th {\n",
       "        vertical-align: top;\n",
       "    }\n",
       "\n",
       "    .dataframe thead th {\n",
       "        text-align: right;\n",
       "    }\n",
       "</style>\n",
       "<table border=\"1\" class=\"dataframe\">\n",
       "  <thead>\n",
       "    <tr style=\"text-align: right;\">\n",
       "      <th></th>\n",
       "      <th>source</th>\n",
       "      <th>statement</th>\n",
       "      <th>veracity</th>\n",
       "    </tr>\n",
       "  </thead>\n",
       "  <tbody>\n",
       "    <tr>\n",
       "      <th>0</th>\n",
       "      <td>Facebook posts</td>\n",
       "      <td>Says that in 1770 \"British parliament banned lipstick, saying it had the power to seduce men into marriage, which was classified as witchcraft.\"</td>\n",
       "      <td>False</td>\n",
       "    </tr>\n",
       "    <tr>\n",
       "      <th>1</th>\n",
       "      <td>Viral image</td>\n",
       "      <td>Says Ann Landers said, \"At age 20, we worry about what others think of us. At age 40, we don’t care what they think. At age 60, we discover that they have not been thinking of us at all.\"</td>\n",
       "      <td>False</td>\n",
       "    </tr>\n",
       "    <tr>\n",
       "      <th>3</th>\n",
       "      <td>Chain email</td>\n",
       "      <td>\"14,000 abandoned wind turbines litter the United States.\"</td>\n",
       "      <td>False</td>\n",
       "    </tr>\n",
       "    <tr>\n",
       "      <th>6</th>\n",
       "      <td>Viral image</td>\n",
       "      <td>Says Donald Trump said, \"Make no mistake: They’re not after me. They are after you; your guns, your Christian values, your freedom. I’m just in their way.\"</td>\n",
       "      <td>False</td>\n",
       "    </tr>\n",
       "    <tr>\n",
       "      <th>7</th>\n",
       "      <td>Viral image</td>\n",
       "      <td>\"President Trump is asking everyone to forward this email… The TRUMP Rules: Congressional Reform Act of 2017.\"</td>\n",
       "      <td>False</td>\n",
       "    </tr>\n",
       "  </tbody>\n",
       "</table>\n",
       "</div>"
      ],
      "text/plain": [
       "           source  \\\n",
       "0  Facebook posts   \n",
       "1     Viral image   \n",
       "3     Chain email   \n",
       "6     Viral image   \n",
       "7     Viral image   \n",
       "\n",
       "                                                                                                                                                                                     statement  \\\n",
       "0                                             Says that in 1770 \"British parliament banned lipstick, saying it had the power to seduce men into marriage, which was classified as witchcraft.\"   \n",
       "1  Says Ann Landers said, \"At age 20, we worry about what others think of us. At age 40, we don’t care what they think. At age 60, we discover that they have not been thinking of us at all.\"   \n",
       "3                                                                                                                                   \"14,000 abandoned wind turbines litter the United States.\"   \n",
       "6                                  Says Donald Trump said, \"Make no mistake: They’re not after me. They are after you; your guns, your Christian values, your freedom. I’m just in their way.\"   \n",
       "7                                                                               \"President Trump is asking everyone to forward this email… The TRUMP Rules: Congressional Reform Act of 2017.\"   \n",
       "\n",
       "  veracity  \n",
       "0    False  \n",
       "1    False  \n",
       "3    False  \n",
       "6    False  \n",
       "7    False  "
      ]
     },
     "execution_count": 13,
     "metadata": {},
     "output_type": "execute_result"
    }
   ],
   "source": [
    "df3.head(5)"
   ]
  },
  {
   "cell_type": "markdown",
   "metadata": {},
   "source": [
    "# Instead let's remove statements that contain \"says [name] said\" as there are 2 reasons this may be false: who spoke is untrue or what they said is untrue. We only want to focus on the what."
   ]
  },
  {
   "cell_type": "code",
   "execution_count": null,
   "metadata": {},
   "outputs": [],
   "source": []
  }
 ],
 "metadata": {
  "kernelspec": {
   "display_name": "Python 3",
   "language": "python",
   "name": "python3"
  },
  "language_info": {
   "codemirror_mode": {
    "name": "ipython",
    "version": 3
   },
   "file_extension": ".py",
   "mimetype": "text/x-python",
   "name": "python",
   "nbconvert_exporter": "python",
   "pygments_lexer": "ipython3",
   "version": "3.7.3"
  }
 },
 "nbformat": 4,
 "nbformat_minor": 2
}
