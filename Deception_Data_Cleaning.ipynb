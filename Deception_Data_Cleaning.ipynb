{
 "cells": [
  {
   "cell_type": "code",
   "execution_count": 1,
   "metadata": {},
   "outputs": [],
   "source": [
    "# Packages for Data Wrangling\n",
    "import numpy as np\n",
    "import pandas as pd\n",
    "import os\n",
    "import re\n",
    "from collections import Counter\n",
    "\n",
    "# For graphs\n",
    "import matplotlib as mpl\n",
    "import matplotlib.pyplot as plt\n",
    "import seaborn as sns"
   ]
  },
  {
   "cell_type": "code",
   "execution_count": 2,
   "metadata": {},
   "outputs": [],
   "source": [
    "# Use cleaner absolute path to find file\n",
    "path = os.path.abspath('politifact.csv')\n",
    "df = pd.read_csv(path, index_col=0)"
   ]
  },
  {
   "cell_type": "code",
   "execution_count": 3,
   "metadata": {},
   "outputs": [
    {
     "name": "stdout",
     "output_type": "stream",
     "text": [
      "<class 'pandas.core.frame.DataFrame'>\n",
      "Int64Index: 16611 entries, 0 to 16610\n",
      "Data columns (total 4 columns):\n",
      "statement    16611 non-null object\n",
      "source       16611 non-null object\n",
      "link         16611 non-null object\n",
      "veracity     16611 non-null object\n",
      "dtypes: object(4)\n",
      "memory usage: 648.9+ KB\n"
     ]
    }
   ],
   "source": [
    "# Check for null values and total number of rows\n",
    "df.info()"
   ]
  },
  {
   "cell_type": "markdown",
   "metadata": {},
   "source": [
    "# Initially 16611 rows of non-null data"
   ]
  },
  {
   "cell_type": "code",
   "execution_count": 4,
   "metadata": {},
   "outputs": [
    {
     "data": {
      "text/html": [
       "<div>\n",
       "<style scoped>\n",
       "    .dataframe tbody tr th:only-of-type {\n",
       "        vertical-align: middle;\n",
       "    }\n",
       "\n",
       "    .dataframe tbody tr th {\n",
       "        vertical-align: top;\n",
       "    }\n",
       "\n",
       "    .dataframe thead th {\n",
       "        text-align: right;\n",
       "    }\n",
       "</style>\n",
       "<table border=\"1\" class=\"dataframe\">\n",
       "  <thead>\n",
       "    <tr style=\"text-align: right;\">\n",
       "      <th></th>\n",
       "      <th>statement</th>\n",
       "      <th>source</th>\n",
       "      <th>link</th>\n",
       "      <th>veracity</th>\n",
       "    </tr>\n",
       "  </thead>\n",
       "  <tbody>\n",
       "    <tr>\n",
       "      <th>0</th>\n",
       "      <td>Says that in 1770 \"British parliament banned lipstick, saying it had the power to seduce men into marriage, which was classified as witchcraft.\"</td>\n",
       "      <td>Facebook posts</td>\n",
       "      <td>/facebook-fact-checks/statements/2019/oct/25/facebook-posts/no-british-parliament-didnt-ban-witchcraft-lipstic/</td>\n",
       "      <td>Pants on Fire!</td>\n",
       "    </tr>\n",
       "    <tr>\n",
       "      <th>1</th>\n",
       "      <td>Says Ann Landers said, \"At age 20, we worry about what others think of us. At age 40, we don’t care what they think. At age 60, we discover that they have not been thinking of us at all.\"</td>\n",
       "      <td>Viral image</td>\n",
       "      <td>/facebook-fact-checks/statements/2019/oct/25/viral-image/no-evidence-ann-landers-said-quote-about-age/</td>\n",
       "      <td>False</td>\n",
       "    </tr>\n",
       "    <tr>\n",
       "      <th>2</th>\n",
       "      <td>\"General Motors is making record profits.\"</td>\n",
       "      <td>Glenn Kage</td>\n",
       "      <td>/missouri/statements/2019/oct/25/glenn-kage/general-motors-profits-have-been-record-setting-no/</td>\n",
       "      <td>Half-True</td>\n",
       "    </tr>\n",
       "  </tbody>\n",
       "</table>\n",
       "</div>"
      ],
      "text/plain": [
       "                                                                                                                                                                                     statement  \\\n",
       "0                                             Says that in 1770 \"British parliament banned lipstick, saying it had the power to seduce men into marriage, which was classified as witchcraft.\"   \n",
       "1  Says Ann Landers said, \"At age 20, we worry about what others think of us. At age 40, we don’t care what they think. At age 60, we discover that they have not been thinking of us at all.\"   \n",
       "2                                                                                                                                                   \"General Motors is making record profits.\"   \n",
       "\n",
       "           source  \\\n",
       "0  Facebook posts   \n",
       "1     Viral image   \n",
       "2      Glenn Kage   \n",
       "\n",
       "                                                                                                              link  \\\n",
       "0  /facebook-fact-checks/statements/2019/oct/25/facebook-posts/no-british-parliament-didnt-ban-witchcraft-lipstic/   \n",
       "1           /facebook-fact-checks/statements/2019/oct/25/viral-image/no-evidence-ann-landers-said-quote-about-age/   \n",
       "2                  /missouri/statements/2019/oct/25/glenn-kage/general-motors-profits-have-been-record-setting-no/   \n",
       "\n",
       "         veracity  \n",
       "0  Pants on Fire!  \n",
       "1           False  \n",
       "2       Half-True  "
      ]
     },
     "execution_count": 4,
     "metadata": {},
     "output_type": "execute_result"
    }
   ],
   "source": [
    "# to see statement in full\n",
    "pd.set_option('display.max_colwidth', 200) \n",
    "\n",
    "# See sample of data\n",
    "df.head(3)"
   ]
  },
  {
   "cell_type": "code",
   "execution_count": 5,
   "metadata": {},
   "outputs": [
    {
     "data": {
      "text/plain": [
       "False             3274\n",
       "Half-True         3158\n",
       "Mostly True       3010\n",
       "Mostly False      2756\n",
       "True              2340\n",
       "Pants on Fire!    1817\n",
       "Full Flop          159\n",
       "Half Flip           70\n",
       "No Flip             27\n",
       "Name: veracity, dtype: int64"
      ]
     },
     "execution_count": 5,
     "metadata": {},
     "output_type": "execute_result"
    }
   ],
   "source": [
    "# check groups that exist in veracity column\n",
    "df.veracity.value_counts()"
   ]
  },
  {
   "cell_type": "code",
   "execution_count": 6,
   "metadata": {},
   "outputs": [],
   "source": [
    "# Full Flop, Half Flip, & No Flip have nothing to do with veracity; remove them\n",
    "# Half-True, Mostly True, & Mostly False are non-exclusive groups; remove them\n",
    "ver_df = df[df.isin(['True',\n",
    "                    'False',\n",
    "                    'Pants on Fire!']).any(axis=1)]"
   ]
  },
  {
   "cell_type": "code",
   "execution_count": 7,
   "metadata": {},
   "outputs": [
    {
     "name": "stdout",
     "output_type": "stream",
     "text": [
      "<class 'pandas.core.frame.DataFrame'>\n",
      "Int64Index: 7431 entries, 0 to 16610\n",
      "Data columns (total 4 columns):\n",
      "statement    7431 non-null object\n",
      "source       7431 non-null object\n",
      "link         7431 non-null object\n",
      "veracity     7431 non-null object\n",
      "dtypes: object(4)\n",
      "memory usage: 290.3+ KB\n"
     ]
    }
   ],
   "source": [
    "# The total number of rows should sum to 7431 (false(3274) + true(2340) + pants on fire(1817) = 7431)\n",
    "ver_df.info()"
   ]
  },
  {
   "cell_type": "markdown",
   "metadata": {},
   "source": [
    "# 7431 rows survived"
   ]
  },
  {
   "cell_type": "code",
   "execution_count": 8,
   "metadata": {},
   "outputs": [
    {
     "data": {
      "text/plain": [
       "False             3274\n",
       "True              2340\n",
       "Pants on Fire!    1817\n",
       "Name: veracity, dtype: int64"
      ]
     },
     "execution_count": 8,
     "metadata": {},
     "output_type": "execute_result"
    }
   ],
   "source": [
    "# check if large imbalance in the 3 classes\n",
    "ver_df.veracity.value_counts()"
   ]
  },
  {
   "cell_type": "code",
   "execution_count": 9,
   "metadata": {
    "scrolled": false
   },
   "outputs": [
    {
     "data": {
      "text/html": [
       "<div>\n",
       "<style scoped>\n",
       "    .dataframe tbody tr th:only-of-type {\n",
       "        vertical-align: middle;\n",
       "    }\n",
       "\n",
       "    .dataframe tbody tr th {\n",
       "        vertical-align: top;\n",
       "    }\n",
       "\n",
       "    .dataframe thead th {\n",
       "        text-align: right;\n",
       "    }\n",
       "</style>\n",
       "<table border=\"1\" class=\"dataframe\">\n",
       "  <thead>\n",
       "    <tr style=\"text-align: right;\">\n",
       "      <th></th>\n",
       "      <th>statement</th>\n",
       "      <th>source</th>\n",
       "      <th>link</th>\n",
       "      <th>veracity</th>\n",
       "    </tr>\n",
       "  </thead>\n",
       "  <tbody>\n",
       "    <tr>\n",
       "      <th>0</th>\n",
       "      <td>Says that in 1770 \"British parliament banned lipstick, saying it had the power to seduce men into marriage, which was classified as witchcraft.\"</td>\n",
       "      <td>Facebook posts</td>\n",
       "      <td>/facebook-fact-checks/statements/2019/oct/25/facebook-posts/no-british-parliament-didnt-ban-witchcraft-lipstic/</td>\n",
       "      <td>Pants on Fire!</td>\n",
       "    </tr>\n",
       "    <tr>\n",
       "      <th>14</th>\n",
       "      <td>Barnes &amp; Noble and Target have the book \"If You Give a Pig the White House\" in their children’s sections.</td>\n",
       "      <td>Viral image</td>\n",
       "      <td>/facebook-fact-checks/statements/2019/oct/24/viral-image/barnes-noble-isnt-selling-if-you-give-pig-white-ho/</td>\n",
       "      <td>False</td>\n",
       "    </tr>\n",
       "    <tr>\n",
       "      <th>28</th>\n",
       "      <td>Says California has \"30% or a third of the country’s people living at or below the poverty level.\"</td>\n",
       "      <td>Mark Batinick</td>\n",
       "      <td>/illinois/statements/2019/oct/20/mark-batinick/no-30-nations-poor-dont-reside-california/</td>\n",
       "      <td>False</td>\n",
       "    </tr>\n",
       "    <tr>\n",
       "      <th>49</th>\n",
       "      <td>Says Fox News anchor Shepard Smith stepped down after Attorney General William Barr \"had a closed door meeting with Rupert Murdoch.\"</td>\n",
       "      <td>The Other 98%</td>\n",
       "      <td>/punditfact/statements/2019/oct/14/other-98/theres-no-proof-barr-played-role-shepard-smiths-fo/</td>\n",
       "      <td>False</td>\n",
       "    </tr>\n",
       "    <tr>\n",
       "      <th>62</th>\n",
       "      <td>Says the sons of Nancy Pelosi, Mitt Romney and John Kerry are all on the boards of \"energy companies doing business in Ukraine.\"</td>\n",
       "      <td>Facebook posts</td>\n",
       "      <td>/facebook-fact-checks/statements/2019/oct/10/facebook-posts/pelosi-romney-and-kerry-dont-have-sons-working-com/</td>\n",
       "      <td>False</td>\n",
       "    </tr>\n",
       "    <tr>\n",
       "      <th>74</th>\n",
       "      <td>Says Rep. Adam Schiff was \"complicit in EDITING AND COMPOSING THE ‘WHISTLEBLOWER COMPLAINT’ BEFORE IT WAS FILED.\"</td>\n",
       "      <td>Facebook posts</td>\n",
       "      <td>/facebook-fact-checks/statements/2019/oct/04/facebook-posts/theres-no-evidence-schiff-helped-write-whistleblow/</td>\n",
       "      <td>False</td>\n",
       "    </tr>\n",
       "    <tr>\n",
       "      <th>90</th>\n",
       "      <td>Siobhan Dunnavant \"wrote the Republican bill that would let insurance companies deny coverage for pre-existing conditions.\"</td>\n",
       "      <td>Rodman Debra</td>\n",
       "      <td>/virginia/statements/2019/oct/01/rodman-debra/rodman-misstates-dunnavants-short-term-health-insu/</td>\n",
       "      <td>False</td>\n",
       "    </tr>\n",
       "    <tr>\n",
       "      <th>105</th>\n",
       "      <td>Says Gov. Tony Evers vetoed a school computer program, \"saying it would be better spent in urban districts like Madison and Milwaukee.\"</td>\n",
       "      <td>Rob Swearingen</td>\n",
       "      <td>/wisconsin/statements/2019/sep/27/rob-swearingen/state-rep-exaggerates-claim-gov-tony-evers-veto-sc/</td>\n",
       "      <td>False</td>\n",
       "    </tr>\n",
       "    <tr>\n",
       "      <th>119</th>\n",
       "      <td>Says a photo shows that climate change protesters left trash all over their protest side.</td>\n",
       "      <td>Facebook posts</td>\n",
       "      <td>/facebook-fact-checks/statements/2019/sep/24/facebook-posts/photo-doesnt-show-trash-left-climate-strike-protes/</td>\n",
       "      <td>False</td>\n",
       "    </tr>\n",
       "    <tr>\n",
       "      <th>141</th>\n",
       "      <td>\"U.S. agricultural &amp; food exports are expected to increase more than $2 billion annually under #USMCA\"</td>\n",
       "      <td>Roy Blunt</td>\n",
       "      <td>/missouri/statements/2019/sep/17/roy-blunt/report-backs-blunt-claim-2-billion-increase-trade-/</td>\n",
       "      <td>True</td>\n",
       "    </tr>\n",
       "  </tbody>\n",
       "</table>\n",
       "</div>"
      ],
      "text/plain": [
       "                                                                                                                                            statement  \\\n",
       "0    Says that in 1770 \"British parliament banned lipstick, saying it had the power to seduce men into marriage, which was classified as witchcraft.\"   \n",
       "14                                          Barnes & Noble and Target have the book \"If You Give a Pig the White House\" in their children’s sections.   \n",
       "28                                                 Says California has \"30% or a third of the country’s people living at or below the poverty level.\"   \n",
       "49               Says Fox News anchor Shepard Smith stepped down after Attorney General William Barr \"had a closed door meeting with Rupert Murdoch.\"   \n",
       "62                   Says the sons of Nancy Pelosi, Mitt Romney and John Kerry are all on the boards of \"energy companies doing business in Ukraine.\"   \n",
       "74                                  Says Rep. Adam Schiff was \"complicit in EDITING AND COMPOSING THE ‘WHISTLEBLOWER COMPLAINT’ BEFORE IT WAS FILED.\"   \n",
       "90                        Siobhan Dunnavant \"wrote the Republican bill that would let insurance companies deny coverage for pre-existing conditions.\"   \n",
       "105           Says Gov. Tony Evers vetoed a school computer program, \"saying it would be better spent in urban districts like Madison and Milwaukee.\"   \n",
       "119                                                         Says a photo shows that climate change protesters left trash all over their protest side.   \n",
       "141                                            \"U.S. agricultural & food exports are expected to increase more than $2 billion annually under #USMCA\"   \n",
       "\n",
       "             source  \\\n",
       "0    Facebook posts   \n",
       "14      Viral image   \n",
       "28    Mark Batinick   \n",
       "49    The Other 98%   \n",
       "62   Facebook posts   \n",
       "74   Facebook posts   \n",
       "90     Rodman Debra   \n",
       "105  Rob Swearingen   \n",
       "119  Facebook posts   \n",
       "141       Roy Blunt   \n",
       "\n",
       "                                                                                                                link  \\\n",
       "0    /facebook-fact-checks/statements/2019/oct/25/facebook-posts/no-british-parliament-didnt-ban-witchcraft-lipstic/   \n",
       "14      /facebook-fact-checks/statements/2019/oct/24/viral-image/barnes-noble-isnt-selling-if-you-give-pig-white-ho/   \n",
       "28                         /illinois/statements/2019/oct/20/mark-batinick/no-30-nations-poor-dont-reside-california/   \n",
       "49                   /punditfact/statements/2019/oct/14/other-98/theres-no-proof-barr-played-role-shepard-smiths-fo/   \n",
       "62   /facebook-fact-checks/statements/2019/oct/10/facebook-posts/pelosi-romney-and-kerry-dont-have-sons-working-com/   \n",
       "74   /facebook-fact-checks/statements/2019/oct/04/facebook-posts/theres-no-evidence-schiff-helped-write-whistleblow/   \n",
       "90                 /virginia/statements/2019/oct/01/rodman-debra/rodman-misstates-dunnavants-short-term-health-insu/   \n",
       "105             /wisconsin/statements/2019/sep/27/rob-swearingen/state-rep-exaggerates-claim-gov-tony-evers-veto-sc/   \n",
       "119  /facebook-fact-checks/statements/2019/sep/24/facebook-posts/photo-doesnt-show-trash-left-climate-strike-protes/   \n",
       "141                   /missouri/statements/2019/sep/17/roy-blunt/report-backs-blunt-claim-2-billion-increase-trade-/   \n",
       "\n",
       "           veracity  \n",
       "0    Pants on Fire!  \n",
       "14            False  \n",
       "28            False  \n",
       "49            False  \n",
       "62            False  \n",
       "74            False  \n",
       "90            False  \n",
       "105           False  \n",
       "119           False  \n",
       "141            True  "
      ]
     },
     "execution_count": 9,
     "metadata": {},
     "output_type": "execute_result"
    }
   ],
   "source": [
    "# randomly sample 10 rows\n",
    "ver_df.iloc[0:100:10]"
   ]
  },
  {
   "cell_type": "markdown",
   "metadata": {},
   "source": [
    "# Should remove statements that begin with \"Says entity said\" as there are 2 reasons this may be false: speaker is false or statement is false."
   ]
  },
  {
   "cell_type": "markdown",
   "metadata": {},
   "source": [
    "# Filter for sentences that begin with a quotation"
   ]
  },
  {
   "cell_type": "code",
   "execution_count": 10,
   "metadata": {},
   "outputs": [
    {
     "data": {
      "text/html": [
       "<div>\n",
       "<style scoped>\n",
       "    .dataframe tbody tr th:only-of-type {\n",
       "        vertical-align: middle;\n",
       "    }\n",
       "\n",
       "    .dataframe tbody tr th {\n",
       "        vertical-align: top;\n",
       "    }\n",
       "\n",
       "    .dataframe thead th {\n",
       "        text-align: right;\n",
       "    }\n",
       "</style>\n",
       "<table border=\"1\" class=\"dataframe\">\n",
       "  <thead>\n",
       "    <tr style=\"text-align: right;\">\n",
       "      <th></th>\n",
       "      <th>statement</th>\n",
       "      <th>source</th>\n",
       "      <th>link</th>\n",
       "      <th>veracity</th>\n",
       "    </tr>\n",
       "  </thead>\n",
       "  <tbody>\n",
       "    <tr>\n",
       "      <th>3</th>\n",
       "      <td>\"14,000 abandoned wind turbines litter the United States.\"</td>\n",
       "      <td>Chain email</td>\n",
       "      <td>/missouri/statements/2019/oct/25/chain-email/no-there-arent-14000-abandoned-wind-turbines-litte/</td>\n",
       "      <td>Pants on Fire!</td>\n",
       "    </tr>\n",
       "    <tr>\n",
       "      <th>53</th>\n",
       "      <td>\"West Virginia Department of Education reported over 10,000 children and youth have been identified as homeless for the 2018-2019 school year.\"</td>\n",
       "      <td>Joe Manchin</td>\n",
       "      <td>/west-virginia/statements/2019/oct/11/joe-manchin/how-many-west-virginia-students-are-homeless/</td>\n",
       "      <td>True</td>\n",
       "    </tr>\n",
       "    <tr>\n",
       "      <th>101</th>\n",
       "      <td>\"In Congress, Elizabeth Warren introduced 110 bills. 2 passed. Cory Booker introduced 120 bills. 0 passed. Kamala Harris introduced 54 bills. 0 passed. Bernie Sanders never held a job until age 53...</td>\n",
       "      <td>Facebook posts</td>\n",
       "      <td>/facebook-fact-checks/statements/2019/sep/27/facebook-posts/social-media-posts-mislead-democratic-senators-rec/</td>\n",
       "      <td>False</td>\n",
       "    </tr>\n",
       "    <tr>\n",
       "      <th>180</th>\n",
       "      <td>\"America has more governors who’ve worn blackface than black governors.\"</td>\n",
       "      <td>Samuel Sinyangwe</td>\n",
       "      <td>/punditfact/statements/2019/sep/06/samuel-sinyangwe/its-true-there-are-more-governors-who-have-worn-bl/</td>\n",
       "      <td>True</td>\n",
       "    </tr>\n",
       "    <tr>\n",
       "      <th>233</th>\n",
       "      <td>\"Yesterday we had the strongest dollar in the history of our country.\"</td>\n",
       "      <td>Donald Trump</td>\n",
       "      <td>/truth-o-meter/statements/2019/aug/22/donald-trump/donald-trump-incorrect-us-dollar-strongest-its-eve/</td>\n",
       "      <td>False</td>\n",
       "    </tr>\n",
       "    <tr>\n",
       "      <th>302</th>\n",
       "      <td>\"Elijah Cummings’ house was broken into after Trump publicly attacked him on Twitter.\"</td>\n",
       "      <td>Chelsea Handler</td>\n",
       "      <td>/punditfact/statements/2019/aug/02/chelsea-handler/chelsea-handler-blames-trumps-tweets-break-cumming/</td>\n",
       "      <td>False</td>\n",
       "    </tr>\n",
       "    <tr>\n",
       "      <th>364</th>\n",
       "      <td>\"San Francisco has spent $72.5 million this fiscal year cleaning up human waste and drug paraphernalia\" and \"there are more drug users on their public needle program than high school graduates.\"</td>\n",
       "      <td>Turning Point USA</td>\n",
       "      <td>/facebook-fact-checks/statements/2019/jul/16/turning-point-usa/san-francisco-isnt-spending-725-million-clean-huma/</td>\n",
       "      <td>False</td>\n",
       "    </tr>\n",
       "    <tr>\n",
       "      <th>400</th>\n",
       "      <td>\"The wealthiest three families now own more wealth than the bottom half of the country.\"</td>\n",
       "      <td>Bernie Sanders</td>\n",
       "      <td>/truth-o-meter/statements/2019/jul/03/bernie-sanders/bernie-sanders-target-saying-3-richest-have-much-w/</td>\n",
       "      <td>True</td>\n",
       "    </tr>\n",
       "    <tr>\n",
       "      <th>456</th>\n",
       "      <td>\"Barack Obama said, ‘If we don’t do something about this president, I will’ at DNC fundraiser last night.\"</td>\n",
       "      <td>Viral image</td>\n",
       "      <td>/facebook-fact-checks/statements/2019/jun/19/viral-image/no-evidence-obama-said-if-we-dont-do-something-abo/</td>\n",
       "      <td>False</td>\n",
       "    </tr>\n",
       "    <tr>\n",
       "      <th>507</th>\n",
       "      <td>\"We saw the prison population expand and vacancy rates for correctional officers go from 2.9% to 15.2%\" over the last eight years.</td>\n",
       "      <td>Chris Taylor</td>\n",
       "      <td>/wisconsin/statements/2019/jun/04/chris-taylor/wisconsin-state-rep-chris-taylor-mark-prison-claim/</td>\n",
       "      <td>True</td>\n",
       "    </tr>\n",
       "  </tbody>\n",
       "</table>\n",
       "</div>"
      ],
      "text/plain": [
       "                                                                                                                                                                                                   statement  \\\n",
       "3                                                                                                                                                 \"14,000 abandoned wind turbines litter the United States.\"   \n",
       "53                                                           \"West Virginia Department of Education reported over 10,000 children and youth have been identified as homeless for the 2018-2019 school year.\"   \n",
       "101  \"In Congress, Elizabeth Warren introduced 110 bills. 2 passed. Cory Booker introduced 120 bills. 0 passed. Kamala Harris introduced 54 bills. 0 passed. Bernie Sanders never held a job until age 53...   \n",
       "180                                                                                                                                 \"America has more governors who’ve worn blackface than black governors.\"   \n",
       "233                                                                                                                                   \"Yesterday we had the strongest dollar in the history of our country.\"   \n",
       "302                                                                                                                   \"Elijah Cummings’ house was broken into after Trump publicly attacked him on Twitter.\"   \n",
       "364       \"San Francisco has spent $72.5 million this fiscal year cleaning up human waste and drug paraphernalia\" and \"there are more drug users on their public needle program than high school graduates.\"   \n",
       "400                                                                                                                 \"The wealthiest three families now own more wealth than the bottom half of the country.\"   \n",
       "456                                                                                               \"Barack Obama said, ‘If we don’t do something about this president, I will’ at DNC fundraiser last night.\"   \n",
       "507                                                                       \"We saw the prison population expand and vacancy rates for correctional officers go from 2.9% to 15.2%\" over the last eight years.   \n",
       "\n",
       "                source  \\\n",
       "3          Chain email   \n",
       "53         Joe Manchin   \n",
       "101     Facebook posts   \n",
       "180   Samuel Sinyangwe   \n",
       "233       Donald Trump   \n",
       "302    Chelsea Handler   \n",
       "364  Turning Point USA   \n",
       "400     Bernie Sanders   \n",
       "456        Viral image   \n",
       "507       Chris Taylor   \n",
       "\n",
       "                                                                                                                   link  \\\n",
       "3                      /missouri/statements/2019/oct/25/chain-email/no-there-arent-14000-abandoned-wind-turbines-litte/   \n",
       "53                      /west-virginia/statements/2019/oct/11/joe-manchin/how-many-west-virginia-students-are-homeless/   \n",
       "101     /facebook-fact-checks/statements/2019/sep/27/facebook-posts/social-media-posts-mislead-democratic-senators-rec/   \n",
       "180             /punditfact/statements/2019/sep/06/samuel-sinyangwe/its-true-there-are-more-governors-who-have-worn-bl/   \n",
       "233              /truth-o-meter/statements/2019/aug/22/donald-trump/donald-trump-incorrect-us-dollar-strongest-its-eve/   \n",
       "302              /punditfact/statements/2019/aug/02/chelsea-handler/chelsea-handler-blames-trumps-tweets-break-cumming/   \n",
       "364  /facebook-fact-checks/statements/2019/jul/16/turning-point-usa/san-francisco-isnt-spending-725-million-clean-huma/   \n",
       "400            /truth-o-meter/statements/2019/jul/03/bernie-sanders/bernie-sanders-target-saying-3-richest-have-much-w/   \n",
       "456        /facebook-fact-checks/statements/2019/jun/19/viral-image/no-evidence-obama-said-if-we-dont-do-something-abo/   \n",
       "507                  /wisconsin/statements/2019/jun/04/chris-taylor/wisconsin-state-rep-chris-taylor-mark-prison-claim/   \n",
       "\n",
       "           veracity  \n",
       "3    Pants on Fire!  \n",
       "53             True  \n",
       "101           False  \n",
       "180            True  \n",
       "233           False  \n",
       "302           False  \n",
       "364           False  \n",
       "400            True  \n",
       "456           False  \n",
       "507            True  "
      ]
     },
     "execution_count": 10,
     "metadata": {},
     "output_type": "execute_result"
    }
   ],
   "source": [
    "ver_df[ver_df.statement.str.match(r\"\\\"\")==True][0:100:10]"
   ]
  },
  {
   "cell_type": "markdown",
   "metadata": {},
   "source": [
    "# Precision: 100% \n",
    "## true positive / (true positive + false positive)"
   ]
  },
  {
   "cell_type": "code",
   "execution_count": 11,
   "metadata": {},
   "outputs": [
    {
     "data": {
      "text/html": [
       "<div>\n",
       "<style scoped>\n",
       "    .dataframe tbody tr th:only-of-type {\n",
       "        vertical-align: middle;\n",
       "    }\n",
       "\n",
       "    .dataframe tbody tr th {\n",
       "        vertical-align: top;\n",
       "    }\n",
       "\n",
       "    .dataframe thead th {\n",
       "        text-align: right;\n",
       "    }\n",
       "</style>\n",
       "<table border=\"1\" class=\"dataframe\">\n",
       "  <thead>\n",
       "    <tr style=\"text-align: right;\">\n",
       "      <th></th>\n",
       "      <th>statement</th>\n",
       "      <th>source</th>\n",
       "      <th>link</th>\n",
       "      <th>veracity</th>\n",
       "    </tr>\n",
       "  </thead>\n",
       "  <tbody>\n",
       "    <tr>\n",
       "      <th>0</th>\n",
       "      <td>Says that in 1770 \"British parliament banned lipstick, saying it had the power to seduce men into marriage, which was classified as witchcraft.\"</td>\n",
       "      <td>Facebook posts</td>\n",
       "      <td>/facebook-fact-checks/statements/2019/oct/25/facebook-posts/no-british-parliament-didnt-ban-witchcraft-lipstic/</td>\n",
       "      <td>Pants on Fire!</td>\n",
       "    </tr>\n",
       "    <tr>\n",
       "      <th>22</th>\n",
       "      <td>AARP backed \"federal funding for Planned Parenthood.\"</td>\n",
       "      <td>Association of Mature American Citizens</td>\n",
       "      <td>/truth-o-meter/statements/2019/oct/22/association-mature-american-citizens/online-ads-claiming-aarp-backed-federal-funding-pl/</td>\n",
       "      <td>False</td>\n",
       "    </tr>\n",
       "    <tr>\n",
       "      <th>49</th>\n",
       "      <td>Says Fox News anchor Shepard Smith stepped down after Attorney General William Barr \"had a closed door meeting with Rupert Murdoch.\"</td>\n",
       "      <td>The Other 98%</td>\n",
       "      <td>/punditfact/statements/2019/oct/14/other-98/theres-no-proof-barr-played-role-shepard-smiths-fo/</td>\n",
       "      <td>False</td>\n",
       "    </tr>\n",
       "    <tr>\n",
       "      <th>68</th>\n",
       "      <td>Del. Danica Roem \"supported a controversial bill that would have allowed abortion up until the moment of birth.</td>\n",
       "      <td>Kelly McGinn</td>\n",
       "      <td>/virginia/statements/2019/oct/09/kelly-mcginn/kelly-mcginn-invents-position-danica-roem-abortion/</td>\n",
       "      <td>False</td>\n",
       "    </tr>\n",
       "    <tr>\n",
       "      <th>87</th>\n",
       "      <td>Says a photo shows Beto O’Rourke \"in college drunk and pissing his pants.\"</td>\n",
       "      <td>Viral image</td>\n",
       "      <td>/facebook-fact-checks/statements/2019/oct/02/viral-image/photo-philadelphia-musician-not-beto-orourke/</td>\n",
       "      <td>Pants on Fire!</td>\n",
       "    </tr>\n",
       "    <tr>\n",
       "      <th>106</th>\n",
       "      <td>A photograph shows a woman doing cocaine with a child.</td>\n",
       "      <td>Viral image</td>\n",
       "      <td>/facebook-fact-checks/statements/2019/sep/26/viral-image/no-woman-isnt-snorting-cocaine-child/</td>\n",
       "      <td>Pants on Fire!</td>\n",
       "    </tr>\n",
       "    <tr>\n",
       "      <th>123</th>\n",
       "      <td>Quotes Winston Churchill as saying \"Diplomacy is the art of telling people to go to hell in such a way that they ask for directions.\"</td>\n",
       "      <td>Bloggers</td>\n",
       "      <td>/facebook-fact-checks/statements/2019/sep/20/blog-posting/no-evidence-churchill-said-quote-about-diplomacy-b/</td>\n",
       "      <td>False</td>\n",
       "    </tr>\n",
       "    <tr>\n",
       "      <th>149</th>\n",
       "      <td>Says John Bolton \"fundamentally was a man of the left.\"</td>\n",
       "      <td>Tucker Carlson</td>\n",
       "      <td>/punditfact/statements/2019/sep/13/tucker-carlson/tucker-carlson-falsely-claims-john-bolton-was-man-/</td>\n",
       "      <td>Pants on Fire!</td>\n",
       "    </tr>\n",
       "    <tr>\n",
       "      <th>171</th>\n",
       "      <td>Says a Donald Trump tweet credited Gov. Ron DeSantis for Hurricane Dorian’s path away from Florida.</td>\n",
       "      <td>Facebook posts</td>\n",
       "      <td>/facebook-fact-checks/statements/2019/sep/06/facebook-posts/donald-trump-did-not-credit-florida-gov-ron-desant/</td>\n",
       "      <td>Pants on Fire!</td>\n",
       "    </tr>\n",
       "    <tr>\n",
       "      <th>191</th>\n",
       "      <td>Says Winston Churchill said, \"You have enemies? Good. That means you’ve stood up for something, sometime in your life.\"</td>\n",
       "      <td>Facebook posts</td>\n",
       "      <td>/facebook-fact-checks/statements/2019/sep/04/facebook-posts/quote-attributed-churchill-having-enemies-original/</td>\n",
       "      <td>False</td>\n",
       "    </tr>\n",
       "  </tbody>\n",
       "</table>\n",
       "</div>"
      ],
      "text/plain": [
       "                                                                                                                                            statement  \\\n",
       "0    Says that in 1770 \"British parliament banned lipstick, saying it had the power to seduce men into marriage, which was classified as witchcraft.\"   \n",
       "22                                                                                              AARP backed \"federal funding for Planned Parenthood.\"   \n",
       "49               Says Fox News anchor Shepard Smith stepped down after Attorney General William Barr \"had a closed door meeting with Rupert Murdoch.\"   \n",
       "68                                    Del. Danica Roem \"supported a controversial bill that would have allowed abortion up until the moment of birth.   \n",
       "87                                                                         Says a photo shows Beto O’Rourke \"in college drunk and pissing his pants.\"   \n",
       "106                                                                                            A photograph shows a woman doing cocaine with a child.   \n",
       "123             Quotes Winston Churchill as saying \"Diplomacy is the art of telling people to go to hell in such a way that they ask for directions.\"   \n",
       "149                                                                                           Says John Bolton \"fundamentally was a man of the left.\"   \n",
       "171                                               Says a Donald Trump tweet credited Gov. Ron DeSantis for Hurricane Dorian’s path away from Florida.   \n",
       "191                           Says Winston Churchill said, \"You have enemies? Good. That means you’ve stood up for something, sometime in your life.\"   \n",
       "\n",
       "                                      source  \\\n",
       "0                             Facebook posts   \n",
       "22   Association of Mature American Citizens   \n",
       "49                             The Other 98%   \n",
       "68                              Kelly McGinn   \n",
       "87                               Viral image   \n",
       "106                              Viral image   \n",
       "123                                 Bloggers   \n",
       "149                           Tucker Carlson   \n",
       "171                           Facebook posts   \n",
       "191                           Facebook posts   \n",
       "\n",
       "                                                                                                                               link  \\\n",
       "0                   /facebook-fact-checks/statements/2019/oct/25/facebook-posts/no-british-parliament-didnt-ban-witchcraft-lipstic/   \n",
       "22   /truth-o-meter/statements/2019/oct/22/association-mature-american-citizens/online-ads-claiming-aarp-backed-federal-funding-pl/   \n",
       "49                                  /punditfact/statements/2019/oct/14/other-98/theres-no-proof-barr-played-role-shepard-smiths-fo/   \n",
       "68                                /virginia/statements/2019/oct/09/kelly-mcginn/kelly-mcginn-invents-position-danica-roem-abortion/   \n",
       "87                           /facebook-fact-checks/statements/2019/oct/02/viral-image/photo-philadelphia-musician-not-beto-orourke/   \n",
       "106                                  /facebook-fact-checks/statements/2019/sep/26/viral-image/no-woman-isnt-snorting-cocaine-child/   \n",
       "123                   /facebook-fact-checks/statements/2019/sep/20/blog-posting/no-evidence-churchill-said-quote-about-diplomacy-b/   \n",
       "149                           /punditfact/statements/2019/sep/13/tucker-carlson/tucker-carlson-falsely-claims-john-bolton-was-man-/   \n",
       "171                 /facebook-fact-checks/statements/2019/sep/06/facebook-posts/donald-trump-did-not-credit-florida-gov-ron-desant/   \n",
       "191                 /facebook-fact-checks/statements/2019/sep/04/facebook-posts/quote-attributed-churchill-having-enemies-original/   \n",
       "\n",
       "           veracity  \n",
       "0    Pants on Fire!  \n",
       "22            False  \n",
       "49            False  \n",
       "68            False  \n",
       "87   Pants on Fire!  \n",
       "106  Pants on Fire!  \n",
       "123           False  \n",
       "149  Pants on Fire!  \n",
       "171  Pants on Fire!  \n",
       "191           False  "
      ]
     },
     "execution_count": 11,
     "metadata": {},
     "output_type": "execute_result"
    }
   ],
   "source": [
    "ver_df[ver_df.statement.str.match(r\"\\\"\")==False][0:100:10]"
   ]
  },
  {
   "cell_type": "markdown",
   "metadata": {},
   "source": [
    "# Negative Predictive Value: 100% \n",
    "## true negative / (true negative + false negative)"
   ]
  },
  {
   "cell_type": "code",
   "execution_count": 12,
   "metadata": {},
   "outputs": [
    {
     "data": {
      "text/plain": [
       "Counter({False: 4016, True: 3415})"
      ]
     },
     "execution_count": 12,
     "metadata": {},
     "output_type": "execute_result"
    }
   ],
   "source": [
    "# Let's see how much data remains with this filtering method, i.e., how many are True\n",
    "Counter(ver_df.statement.str.match(r\"\\\"\"))"
   ]
  },
  {
   "cell_type": "code",
   "execution_count": 13,
   "metadata": {},
   "outputs": [
    {
     "data": {
      "text/plain": [
       "Counter({False: 4016, True: 3415})"
      ]
     },
     "execution_count": 13,
     "metadata": {},
     "output_type": "execute_result"
    }
   ],
   "source": [
    "# verify above results using a different method\n",
    "Counter(ver_df.statement.str.startswith('\"'))"
   ]
  },
  {
   "cell_type": "markdown",
   "metadata": {},
   "source": [
    "# 3415 rows survive"
   ]
  },
  {
   "cell_type": "markdown",
   "metadata": {},
   "source": [
    "# Do other filters give better survival rates?"
   ]
  },
  {
   "cell_type": "markdown",
   "metadata": {},
   "source": [
    "# Filter: contains second-hand statement"
   ]
  },
  {
   "cell_type": "code",
   "execution_count": 14,
   "metadata": {},
   "outputs": [
    {
     "data": {
      "text/html": [
       "<div>\n",
       "<style scoped>\n",
       "    .dataframe tbody tr th:only-of-type {\n",
       "        vertical-align: middle;\n",
       "    }\n",
       "\n",
       "    .dataframe tbody tr th {\n",
       "        vertical-align: top;\n",
       "    }\n",
       "\n",
       "    .dataframe thead th {\n",
       "        text-align: right;\n",
       "    }\n",
       "</style>\n",
       "<table border=\"1\" class=\"dataframe\">\n",
       "  <thead>\n",
       "    <tr style=\"text-align: right;\">\n",
       "      <th></th>\n",
       "      <th>statement</th>\n",
       "      <th>source</th>\n",
       "      <th>link</th>\n",
       "      <th>veracity</th>\n",
       "    </tr>\n",
       "  </thead>\n",
       "  <tbody>\n",
       "    <tr>\n",
       "      <th>0</th>\n",
       "      <td>Says that in 1770 \"British parliament banned lipstick, saying it had the power to seduce men into marriage, which was classified as witchcraft.\"</td>\n",
       "      <td>Facebook posts</td>\n",
       "      <td>/facebook-fact-checks/statements/2019/oct/25/facebook-posts/no-british-parliament-didnt-ban-witchcraft-lipstic/</td>\n",
       "      <td>Pants on Fire!</td>\n",
       "    </tr>\n",
       "    <tr>\n",
       "      <th>26</th>\n",
       "      <td>Says a photo shows \"Kurdish kids\" after Turkey’s invasion.</td>\n",
       "      <td>Viral image</td>\n",
       "      <td>/facebook-fact-checks/statements/2019/oct/21/viral-image/these-photos-are-palestinian-and-syrian-children-n/</td>\n",
       "      <td>False</td>\n",
       "    </tr>\n",
       "    <tr>\n",
       "      <th>54</th>\n",
       "      <td>Says Facebook now has a \"witch checker.\"</td>\n",
       "      <td>Facebook posts</td>\n",
       "      <td>/facebook-fact-checks/statements/2019/oct/11/facebook-posts/viral-posts-about-facebook-witch-checker-just-bunc/</td>\n",
       "      <td>Pants on Fire!</td>\n",
       "    </tr>\n",
       "    <tr>\n",
       "      <th>79</th>\n",
       "      <td>Quotes Thomas Jefferson as saying that \"freedom is lost gradually from uninterested, uninformed and uninvolved people.\"</td>\n",
       "      <td>Facebook posts</td>\n",
       "      <td>/facebook-fact-checks/statements/2019/oct/04/facebook-posts/jefferson-didnt-say-freedom-lost-gradually-uninter/</td>\n",
       "      <td>False</td>\n",
       "    </tr>\n",
       "    <tr>\n",
       "      <th>107</th>\n",
       "      <td>Says Andy Rooney wrote a long commentary defending prayer and Christianity in the United States.</td>\n",
       "      <td>Viral image</td>\n",
       "      <td>/facebook-fact-checks/statements/2019/sep/26/viral-image/texas-sports-editor-wrote-column-christianity-and-/</td>\n",
       "      <td>False</td>\n",
       "    </tr>\n",
       "    <tr>\n",
       "      <th>132</th>\n",
       "      <td>Says Ilhan Omar \"partied\" on the anniversary of 9/11.</td>\n",
       "      <td>Donald Trump</td>\n",
       "      <td>/truth-o-meter/statements/2019/sep/19/donald-trump/trump-retweets-false-claim-ilhan-omar-partied-911-/</td>\n",
       "      <td>Pants on Fire!</td>\n",
       "    </tr>\n",
       "    <tr>\n",
       "      <th>167</th>\n",
       "      <td>Says after a car accident comedian Kevin Hart has been \"paralyzed from the neck down\" and his \"vocal cords have been paralyzed as well, leaving him with the inability to speak.\"</td>\n",
       "      <td>Facebook posts</td>\n",
       "      <td>/facebook-fact-checks/statements/2019/sep/09/facebook-posts/no-kevin-hart-wasnt-paralyzed-neck-down-didnt-inju/</td>\n",
       "      <td>False</td>\n",
       "    </tr>\n",
       "    <tr>\n",
       "      <th>193</th>\n",
       "      <td>Says the \"bones of children\" were found on Jeffrey Epstein’s island.</td>\n",
       "      <td>Facebook posts</td>\n",
       "      <td>/facebook-fact-checks/statements/2019/sep/04/facebook-posts/no-bones-children-were-not-discovered-jeffrey-epst/</td>\n",
       "      <td>False</td>\n",
       "    </tr>\n",
       "    <tr>\n",
       "      <th>222</th>\n",
       "      <td>Says 194 people were killed in mass shootings in 2018 while undocumented immigrants killed 83,211 people.</td>\n",
       "      <td>Facebook posts</td>\n",
       "      <td>/facebook-fact-checks/statements/2019/aug/26/facebook-posts/post-comparing-mass-shooting-deaths-homicides-undo/</td>\n",
       "      <td>False</td>\n",
       "    </tr>\n",
       "    <tr>\n",
       "      <th>248</th>\n",
       "      <td>Says CNN President Jeff Zucker ordered employees to downplay Bill Clinton’s relationship with Jeffrey Epstein and make it look like Epstein was \"Trump’s partner in all of this.\"</td>\n",
       "      <td>Facebook posts</td>\n",
       "      <td>/facebook-fact-checks/statements/2019/aug/16/facebook-posts/no-cnn-president-jeff-zucker-didnt-order-employees/</td>\n",
       "      <td>Pants on Fire!</td>\n",
       "    </tr>\n",
       "  </tbody>\n",
       "</table>\n",
       "</div>"
      ],
      "text/plain": [
       "                                                                                                                                                                             statement  \\\n",
       "0                                     Says that in 1770 \"British parliament banned lipstick, saying it had the power to seduce men into marriage, which was classified as witchcraft.\"   \n",
       "26                                                                                                                          Says a photo shows \"Kurdish kids\" after Turkey’s invasion.   \n",
       "54                                                                                                                                            Says Facebook now has a \"witch checker.\"   \n",
       "79                                                             Quotes Thomas Jefferson as saying that \"freedom is lost gradually from uninterested, uninformed and uninvolved people.\"   \n",
       "107                                                                                   Says Andy Rooney wrote a long commentary defending prayer and Christianity in the United States.   \n",
       "132                                                                                                                              Says Ilhan Omar \"partied\" on the anniversary of 9/11.   \n",
       "167  Says after a car accident comedian Kevin Hart has been \"paralyzed from the neck down\" and his \"vocal cords have been paralyzed as well, leaving him with the inability to speak.\"   \n",
       "193                                                                                                               Says the \"bones of children\" were found on Jeffrey Epstein’s island.   \n",
       "222                                                                          Says 194 people were killed in mass shootings in 2018 while undocumented immigrants killed 83,211 people.   \n",
       "248  Says CNN President Jeff Zucker ordered employees to downplay Bill Clinton’s relationship with Jeffrey Epstein and make it look like Epstein was \"Trump’s partner in all of this.\"   \n",
       "\n",
       "             source  \\\n",
       "0    Facebook posts   \n",
       "26      Viral image   \n",
       "54   Facebook posts   \n",
       "79   Facebook posts   \n",
       "107     Viral image   \n",
       "132    Donald Trump   \n",
       "167  Facebook posts   \n",
       "193  Facebook posts   \n",
       "222  Facebook posts   \n",
       "248  Facebook posts   \n",
       "\n",
       "                                                                                                                link  \\\n",
       "0    /facebook-fact-checks/statements/2019/oct/25/facebook-posts/no-british-parliament-didnt-ban-witchcraft-lipstic/   \n",
       "26      /facebook-fact-checks/statements/2019/oct/21/viral-image/these-photos-are-palestinian-and-syrian-children-n/   \n",
       "54   /facebook-fact-checks/statements/2019/oct/11/facebook-posts/viral-posts-about-facebook-witch-checker-just-bunc/   \n",
       "79   /facebook-fact-checks/statements/2019/oct/04/facebook-posts/jefferson-didnt-say-freedom-lost-gradually-uninter/   \n",
       "107     /facebook-fact-checks/statements/2019/sep/26/viral-image/texas-sports-editor-wrote-column-christianity-and-/   \n",
       "132           /truth-o-meter/statements/2019/sep/19/donald-trump/trump-retweets-false-claim-ilhan-omar-partied-911-/   \n",
       "167  /facebook-fact-checks/statements/2019/sep/09/facebook-posts/no-kevin-hart-wasnt-paralyzed-neck-down-didnt-inju/   \n",
       "193  /facebook-fact-checks/statements/2019/sep/04/facebook-posts/no-bones-children-were-not-discovered-jeffrey-epst/   \n",
       "222  /facebook-fact-checks/statements/2019/aug/26/facebook-posts/post-comparing-mass-shooting-deaths-homicides-undo/   \n",
       "248  /facebook-fact-checks/statements/2019/aug/16/facebook-posts/no-cnn-president-jeff-zucker-didnt-order-employees/   \n",
       "\n",
       "           veracity  \n",
       "0    Pants on Fire!  \n",
       "26            False  \n",
       "54   Pants on Fire!  \n",
       "79            False  \n",
       "107           False  \n",
       "132  Pants on Fire!  \n",
       "167           False  \n",
       "193           False  \n",
       "222           False  \n",
       "248  Pants on Fire!  "
      ]
     },
     "execution_count": 14,
     "metadata": {},
     "output_type": "execute_result"
    }
   ],
   "source": [
    "ver_df[ver_df.statement.str.contains(r\"Says|Quotes|Say|Said|say|saying|said\")==True][0:100:10]"
   ]
  },
  {
   "cell_type": "markdown",
   "metadata": {},
   "source": [
    "# Precision: 100%"
   ]
  },
  {
   "cell_type": "code",
   "execution_count": 15,
   "metadata": {},
   "outputs": [
    {
     "data": {
      "text/html": [
       "<div>\n",
       "<style scoped>\n",
       "    .dataframe tbody tr th:only-of-type {\n",
       "        vertical-align: middle;\n",
       "    }\n",
       "\n",
       "    .dataframe tbody tr th {\n",
       "        vertical-align: top;\n",
       "    }\n",
       "\n",
       "    .dataframe thead th {\n",
       "        text-align: right;\n",
       "    }\n",
       "</style>\n",
       "<table border=\"1\" class=\"dataframe\">\n",
       "  <thead>\n",
       "    <tr style=\"text-align: right;\">\n",
       "      <th></th>\n",
       "      <th>statement</th>\n",
       "      <th>source</th>\n",
       "      <th>link</th>\n",
       "      <th>veracity</th>\n",
       "    </tr>\n",
       "  </thead>\n",
       "  <tbody>\n",
       "    <tr>\n",
       "      <th>3</th>\n",
       "      <td>\"14,000 abandoned wind turbines litter the United States.\"</td>\n",
       "      <td>Chain email</td>\n",
       "      <td>/missouri/statements/2019/oct/25/chain-email/no-there-arent-14000-abandoned-wind-turbines-litte/</td>\n",
       "      <td>Pants on Fire!</td>\n",
       "    </tr>\n",
       "    <tr>\n",
       "      <th>35</th>\n",
       "      <td>\"The Kurds are much safer right now.\"</td>\n",
       "      <td>Donald Trump</td>\n",
       "      <td>/truth-o-meter/statements/2019/oct/16/donald-trump/after-attacks-turkey-trump-falsely-claims-kurds-sy/</td>\n",
       "      <td>False</td>\n",
       "    </tr>\n",
       "    <tr>\n",
       "      <th>72</th>\n",
       "      <td>Del. Debra Rodman \"opposes adoption as an alternative to abortion in event of unplanned pregnancies.\"</td>\n",
       "      <td>Siobhan Dunnavant</td>\n",
       "      <td>/virginia/statements/2019/oct/08/siobhan-dunnavant/dunnavant-falsely-claims-rodman-favors-abortion-ov/</td>\n",
       "      <td>False</td>\n",
       "    </tr>\n",
       "    <tr>\n",
       "      <th>104</th>\n",
       "      <td>The Green New Deal \"would put a $600,000 tax burden on every household.\"</td>\n",
       "      <td>Republican Party of Florida</td>\n",
       "      <td>/florida/statements/2019/sep/27/republican-party-florida/gop-talking-point-green-new-deal-will-cost-every-h/</td>\n",
       "      <td>False</td>\n",
       "    </tr>\n",
       "    <tr>\n",
       "      <th>148</th>\n",
       "      <td>The Odessa shooter \"had a Beto sticker on his truck.\"</td>\n",
       "      <td>Viral image</td>\n",
       "      <td>/facebook-fact-checks/statements/2019/sep/13/viral-image/no-evidence-odessa-shooter-had-sticker-his-vehicle/</td>\n",
       "      <td>False</td>\n",
       "    </tr>\n",
       "    <tr>\n",
       "      <th>182</th>\n",
       "      <td>The Amazon rainforest fires are \"directly related to trade\" tensions between the United States and China.</td>\n",
       "      <td>John Delaney</td>\n",
       "      <td>/truth-o-meter/statements/2019/sep/06/john-delaney/trumps-trade-war-blame-amazon-wildfires-s-reach/</td>\n",
       "      <td>False</td>\n",
       "    </tr>\n",
       "    <tr>\n",
       "      <th>214</th>\n",
       "      <td>\"89,000 children were separated from their parents under Obama\" and \"only 1,900 children have been separated under Trump.\"</td>\n",
       "      <td>Facebook posts</td>\n",
       "      <td>/facebook-fact-checks/statements/2019/aug/27/facebook-posts/facebook-post-makes-inaccurate-comparison-family-s/</td>\n",
       "      <td>False</td>\n",
       "    </tr>\n",
       "    <tr>\n",
       "      <th>240</th>\n",
       "      <td>\"Wow, Report Just Out! Google manipulated from 2.6 million to 16 million votes for Hillary Clinton in 2016 Election!\"</td>\n",
       "      <td>Donald Trump</td>\n",
       "      <td>/truth-o-meter/statements/2019/aug/19/donald-trump/donald-trump-wrong-google-manipulating-election-re/</td>\n",
       "      <td>False</td>\n",
       "    </tr>\n",
       "    <tr>\n",
       "      <th>291</th>\n",
       "      <td>There are \"more gun deaths by far\" in the United States than any other country in the world.</td>\n",
       "      <td>Dianne Feinstein</td>\n",
       "      <td>/california/statements/2019/aug/06/dianne-feinstein/fact-check-are-there-more-gun-deaths-far-america-a/</td>\n",
       "      <td>False</td>\n",
       "    </tr>\n",
       "    <tr>\n",
       "      <th>332</th>\n",
       "      <td>\"George Washington, as many don’t know, was not the first President of the United States. The first President of the United States was one John Hanson, and he was a black man.\"</td>\n",
       "      <td>Bloggers</td>\n",
       "      <td>/facebook-fact-checks/statements/2019/jul/25/blog-posting/no-first-american-president-wasnt-black-man-named-/</td>\n",
       "      <td>False</td>\n",
       "    </tr>\n",
       "  </tbody>\n",
       "</table>\n",
       "</div>"
      ],
      "text/plain": [
       "                                                                                                                                                                            statement  \\\n",
       "3                                                                                                                          \"14,000 abandoned wind turbines litter the United States.\"   \n",
       "35                                                                                                                                              \"The Kurds are much safer right now.\"   \n",
       "72                                                                              Del. Debra Rodman \"opposes adoption as an alternative to abortion in event of unplanned pregnancies.\"   \n",
       "104                                                                                                          The Green New Deal \"would put a $600,000 tax burden on every household.\"   \n",
       "148                                                                                                                             The Odessa shooter \"had a Beto sticker on his truck.\"   \n",
       "182                                                                         The Amazon rainforest fires are \"directly related to trade\" tensions between the United States and China.   \n",
       "214                                                        \"89,000 children were separated from their parents under Obama\" and \"only 1,900 children have been separated under Trump.\"   \n",
       "240                                                             \"Wow, Report Just Out! Google manipulated from 2.6 million to 16 million votes for Hillary Clinton in 2016 Election!\"   \n",
       "291                                                                                      There are \"more gun deaths by far\" in the United States than any other country in the world.   \n",
       "332  \"George Washington, as many don’t know, was not the first President of the United States. The first President of the United States was one John Hanson, and he was a black man.\"   \n",
       "\n",
       "                          source  \\\n",
       "3                    Chain email   \n",
       "35                  Donald Trump   \n",
       "72             Siobhan Dunnavant   \n",
       "104  Republican Party of Florida   \n",
       "148                  Viral image   \n",
       "182                 John Delaney   \n",
       "214               Facebook posts   \n",
       "240                 Donald Trump   \n",
       "291             Dianne Feinstein   \n",
       "332                     Bloggers   \n",
       "\n",
       "                                                                                                                link  \\\n",
       "3                   /missouri/statements/2019/oct/25/chain-email/no-there-arent-14000-abandoned-wind-turbines-litte/   \n",
       "35            /truth-o-meter/statements/2019/oct/16/donald-trump/after-attacks-turkey-trump-falsely-claims-kurds-sy/   \n",
       "72            /virginia/statements/2019/oct/08/siobhan-dunnavant/dunnavant-falsely-claims-rodman-favors-abortion-ov/   \n",
       "104     /florida/statements/2019/sep/27/republican-party-florida/gop-talking-point-green-new-deal-will-cost-every-h/   \n",
       "148     /facebook-fact-checks/statements/2019/sep/13/viral-image/no-evidence-odessa-shooter-had-sticker-his-vehicle/   \n",
       "182              /truth-o-meter/statements/2019/sep/06/john-delaney/trumps-trade-war-blame-amazon-wildfires-s-reach/   \n",
       "214  /facebook-fact-checks/statements/2019/aug/27/facebook-posts/facebook-post-makes-inaccurate-comparison-family-s/   \n",
       "240           /truth-o-meter/statements/2019/aug/19/donald-trump/donald-trump-wrong-google-manipulating-election-re/   \n",
       "291          /california/statements/2019/aug/06/dianne-feinstein/fact-check-are-there-more-gun-deaths-far-america-a/   \n",
       "332    /facebook-fact-checks/statements/2019/jul/25/blog-posting/no-first-american-president-wasnt-black-man-named-/   \n",
       "\n",
       "           veracity  \n",
       "3    Pants on Fire!  \n",
       "35            False  \n",
       "72            False  \n",
       "104           False  \n",
       "148           False  \n",
       "182           False  \n",
       "214           False  \n",
       "240           False  \n",
       "291           False  \n",
       "332           False  "
      ]
     },
     "execution_count": 15,
     "metadata": {},
     "output_type": "execute_result"
    }
   ],
   "source": [
    "ver_df[ver_df.statement.str.contains(r\"Says|Quotes|Say|Said|say|saying|said\")==False][0:100:10]"
   ]
  },
  {
   "cell_type": "markdown",
   "metadata": {},
   "source": [
    "# Negative Predictive Value: 100%"
   ]
  },
  {
   "cell_type": "code",
   "execution_count": 16,
   "metadata": {},
   "outputs": [
    {
     "data": {
      "text/plain": [
       "Counter({True: 2165, False: 5266})"
      ]
     },
     "execution_count": 16,
     "metadata": {},
     "output_type": "execute_result"
    }
   ],
   "source": [
    "Counter(ver_df.statement.str.contains(r\"Says|Quotes|Say|Said|say|saying|said\"))"
   ]
  },
  {
   "cell_type": "markdown",
   "metadata": {},
   "source": [
    "# 5266 rows survive"
   ]
  },
  {
   "cell_type": "markdown",
   "metadata": {},
   "source": [
    "# While more rows survive, the quality of the suriving rows is questionable. For example, \n",
    "\n",
    "## Del. Debra Rodman \"opposes adoption as an alternative to abortion in event of unplanned pregnancies.\"\n",
    "\n",
    "# Liars may use distancing language such as \"she\" and since the above quote was edited to indicate the subject, Del. Debra Rodman, the quality of this falsehood diminishes. This can also be said of 104, 148, etc."
   ]
  },
  {
   "cell_type": "markdown",
   "metadata": {},
   "source": [
    "# We'll use a begins-with-and-ends-with-quotations filter going forward"
   ]
  },
  {
   "cell_type": "code",
   "execution_count": 17,
   "metadata": {},
   "outputs": [
    {
     "name": "stdout",
     "output_type": "stream",
     "text": [
      "<class 'pandas.core.frame.DataFrame'>\n",
      "Int64Index: 3415 entries, 3 to 16610\n",
      "Data columns (total 4 columns):\n",
      "statement    3415 non-null object\n",
      "source       3415 non-null object\n",
      "link         3415 non-null object\n",
      "veracity     3415 non-null object\n",
      "dtypes: object(4)\n",
      "memory usage: 133.4+ KB\n"
     ]
    }
   ],
   "source": [
    "quote_df = ver_df[ver_df.statement.str.match(r'\\\"')==True]\n",
    "quote_df.info()"
   ]
  },
  {
   "cell_type": "code",
   "execution_count": 18,
   "metadata": {},
   "outputs": [
    {
     "name": "stdout",
     "output_type": "stream",
     "text": [
      "<class 'pandas.core.frame.DataFrame'>\n",
      "Int64Index: 3171 entries, 3 to 16610\n",
      "Data columns (total 4 columns):\n",
      "statement    3171 non-null object\n",
      "source       3171 non-null object\n",
      "link         3171 non-null object\n",
      "veracity     3171 non-null object\n",
      "dtypes: object(4)\n",
      "memory usage: 123.9+ KB\n"
     ]
    }
   ],
   "source": [
    "# remove sentences that don't end with a quotation\n",
    "quote_df = quote_df[quote_df.statement.str.endswith('\"')==True]\n",
    "quote_df.info()"
   ]
  },
  {
   "cell_type": "code",
   "execution_count": 19,
   "metadata": {},
   "outputs": [
    {
     "name": "stdout",
     "output_type": "stream",
     "text": [
      "<class 'pandas.core.frame.DataFrame'>\n",
      "Int64Index: 3083 entries, 3 to 16610\n",
      "Data columns (total 4 columns):\n",
      "statement    3083 non-null object\n",
      "source       3083 non-null object\n",
      "link         3083 non-null object\n",
      "veracity     3083 non-null object\n",
      "dtypes: object(4)\n",
      "memory usage: 120.4+ KB\n"
     ]
    }
   ],
   "source": [
    "# remove sentences that are several quotes strung together\n",
    "quote_df = quote_df[quote_df.statement.str.contains(r'\\\"{1}.+\\\"{1}.+\\\"{1}')==False]\n",
    "quote_df.info()"
   ]
  },
  {
   "cell_type": "code",
   "execution_count": 20,
   "metadata": {},
   "outputs": [
    {
     "data": {
      "text/plain": [
       "False             1246\n",
       "True              1137\n",
       "Pants on Fire!     700\n",
       "Name: veracity, dtype: int64"
      ]
     },
     "execution_count": 20,
     "metadata": {},
     "output_type": "execute_result"
    }
   ],
   "source": [
    "quote_df.veracity.value_counts()"
   ]
  },
  {
   "cell_type": "code",
   "execution_count": 21,
   "metadata": {},
   "outputs": [
    {
     "data": {
      "text/html": [
       "<div>\n",
       "<style scoped>\n",
       "    .dataframe tbody tr th:only-of-type {\n",
       "        vertical-align: middle;\n",
       "    }\n",
       "\n",
       "    .dataframe tbody tr th {\n",
       "        vertical-align: top;\n",
       "    }\n",
       "\n",
       "    .dataframe thead th {\n",
       "        text-align: right;\n",
       "    }\n",
       "</style>\n",
       "<table border=\"1\" class=\"dataframe\">\n",
       "  <thead>\n",
       "    <tr style=\"text-align: right;\">\n",
       "      <th></th>\n",
       "      <th>statement</th>\n",
       "      <th>source</th>\n",
       "      <th>link</th>\n",
       "      <th>veracity</th>\n",
       "    </tr>\n",
       "  </thead>\n",
       "  <tbody>\n",
       "    <tr>\n",
       "      <th>count</th>\n",
       "      <td>3083</td>\n",
       "      <td>3083</td>\n",
       "      <td>3083</td>\n",
       "      <td>3083</td>\n",
       "    </tr>\n",
       "    <tr>\n",
       "      <th>unique</th>\n",
       "      <td>3082</td>\n",
       "      <td>1281</td>\n",
       "      <td>3083</td>\n",
       "      <td>3</td>\n",
       "    </tr>\n",
       "    <tr>\n",
       "      <th>top</th>\n",
       "      <td>\"Obama says Iran is a 'tiny' country, 'doesn't pose a serious threat.'\"</td>\n",
       "      <td>Bloggers</td>\n",
       "      <td>/truth-o-meter/statements/2009/apr/30/john-boehner/boehner-cites-debt-day-numbers-carefully/</td>\n",
       "      <td>False</td>\n",
       "    </tr>\n",
       "    <tr>\n",
       "      <th>freq</th>\n",
       "      <td>2</td>\n",
       "      <td>201</td>\n",
       "      <td>1</td>\n",
       "      <td>1246</td>\n",
       "    </tr>\n",
       "  </tbody>\n",
       "</table>\n",
       "</div>"
      ],
      "text/plain": [
       "                                                                      statement  \\\n",
       "count                                                                      3083   \n",
       "unique                                                                     3082   \n",
       "top     \"Obama says Iran is a 'tiny' country, 'doesn't pose a serious threat.'\"   \n",
       "freq                                                                          2   \n",
       "\n",
       "          source  \\\n",
       "count       3083   \n",
       "unique      1281   \n",
       "top     Bloggers   \n",
       "freq         201   \n",
       "\n",
       "                                                                                                link  \\\n",
       "count                                                                                           3083   \n",
       "unique                                                                                          3083   \n",
       "top     /truth-o-meter/statements/2009/apr/30/john-boehner/boehner-cites-debt-day-numbers-carefully/   \n",
       "freq                                                                                               1   \n",
       "\n",
       "       veracity  \n",
       "count      3083  \n",
       "unique        3  \n",
       "top       False  \n",
       "freq       1246  "
      ]
     },
     "execution_count": 21,
     "metadata": {},
     "output_type": "execute_result"
    }
   ],
   "source": [
    "# how many unique sources?\n",
    "quote_df.describe(include='all')"
   ]
  },
  {
   "cell_type": "code",
   "execution_count": 22,
   "metadata": {},
   "outputs": [
    {
     "data": {
      "text/plain": [
       "Bloggers           201\n",
       "Donald Trump       181\n",
       "Barack Obama       101\n",
       "Hillary Clinton     58\n",
       "John McCain         49\n",
       "Mitt Romney         42\n",
       "Chain email         41\n",
       "Viral image         36\n",
       "Facebook posts      35\n",
       "Rick Perry          28\n",
       "Name: source, dtype: int64"
      ]
     },
     "execution_count": 22,
     "metadata": {},
     "output_type": "execute_result"
    }
   ],
   "source": [
    "# top 10 sources\n",
    "quote_df.source.value_counts()[:10]"
   ]
  },
  {
   "cell_type": "markdown",
   "metadata": {},
   "source": [
    "# There is an imbalance in the sources (some appear far too often)\n",
    "\n",
    "# By examining the source frequency's mean and median, we can determine how many times most sources are quoted to figure out a way to balance the data"
   ]
  },
  {
   "cell_type": "code",
   "execution_count": 23,
   "metadata": {},
   "outputs": [
    {
     "data": {
      "text/plain": [
       "2.4067135050741606"
      ]
     },
     "execution_count": 23,
     "metadata": {},
     "output_type": "execute_result"
    }
   ],
   "source": [
    "quote_df.source.value_counts().mean()"
   ]
  },
  {
   "cell_type": "code",
   "execution_count": 24,
   "metadata": {},
   "outputs": [
    {
     "data": {
      "text/plain": [
       "1.0"
      ]
     },
     "execution_count": 24,
     "metadata": {},
     "output_type": "execute_result"
    }
   ],
   "source": [
    "quote_df.source.value_counts().median()"
   ]
  },
  {
   "cell_type": "code",
   "execution_count": 25,
   "metadata": {},
   "outputs": [
    {
     "data": {
      "text/plain": [
       "1165"
      ]
     },
     "execution_count": 25,
     "metadata": {},
     "output_type": "execute_result"
    }
   ],
   "source": [
    "sum(quote_df.source.value_counts() <= 3)"
   ]
  },
  {
   "cell_type": "code",
   "execution_count": 26,
   "metadata": {},
   "outputs": [],
   "source": [
    "quote_df['freq'] = quote_df.groupby('source')['source'].transform('count')"
   ]
  },
  {
   "cell_type": "code",
   "execution_count": 27,
   "metadata": {},
   "outputs": [
    {
     "name": "stdout",
     "output_type": "stream",
     "text": [
      "<class 'pandas.core.frame.DataFrame'>\n",
      "Int64Index: 1455 entries, 18 to 16610\n",
      "Data columns (total 5 columns):\n",
      "statement    1455 non-null object\n",
      "source       1455 non-null object\n",
      "link         1455 non-null object\n",
      "veracity     1455 non-null object\n",
      "freq         1455 non-null int64\n",
      "dtypes: int64(1), object(4)\n",
      "memory usage: 68.2+ KB\n"
     ]
    }
   ],
   "source": [
    "quote_df[quote_df.freq <= 3].info()"
   ]
  },
  {
   "cell_type": "markdown",
   "metadata": {},
   "source": [
    "# New dataframe will only tolerate a single source appearing 3 times"
   ]
  },
  {
   "cell_type": "code",
   "execution_count": 28,
   "metadata": {},
   "outputs": [],
   "source": [
    "balanced_df = quote_df[quote_df.freq <= 3]"
   ]
  },
  {
   "cell_type": "code",
   "execution_count": 29,
   "metadata": {},
   "outputs": [
    {
     "data": {
      "text/html": [
       "<div>\n",
       "<style scoped>\n",
       "    .dataframe tbody tr th:only-of-type {\n",
       "        vertical-align: middle;\n",
       "    }\n",
       "\n",
       "    .dataframe tbody tr th {\n",
       "        vertical-align: top;\n",
       "    }\n",
       "\n",
       "    .dataframe thead th {\n",
       "        text-align: right;\n",
       "    }\n",
       "</style>\n",
       "<table border=\"1\" class=\"dataframe\">\n",
       "  <thead>\n",
       "    <tr style=\"text-align: right;\">\n",
       "      <th></th>\n",
       "      <th>statement</th>\n",
       "      <th>source</th>\n",
       "      <th>link</th>\n",
       "      <th>veracity</th>\n",
       "      <th>freq</th>\n",
       "    </tr>\n",
       "  </thead>\n",
       "  <tbody>\n",
       "    <tr>\n",
       "      <th>count</th>\n",
       "      <td>1455</td>\n",
       "      <td>1455</td>\n",
       "      <td>1455</td>\n",
       "      <td>1455</td>\n",
       "      <td>1455.000000</td>\n",
       "    </tr>\n",
       "    <tr>\n",
       "      <th>unique</th>\n",
       "      <td>1455</td>\n",
       "      <td>1165</td>\n",
       "      <td>1455</td>\n",
       "      <td>3</td>\n",
       "      <td>NaN</td>\n",
       "    </tr>\n",
       "    <tr>\n",
       "      <th>top</th>\n",
       "      <td>\"If the impeachment reaches the house and passes to the senate and isn’t passed the first term is nullified and Trump can run two more terms.\"</td>\n",
       "      <td>Mitch McConnell</td>\n",
       "      <td>/rhode-island/statements/2013/jan/13/dawson-hodgson/rhode-island-sen-dawson-hodgson-says-state-spends-/</td>\n",
       "      <td>False</td>\n",
       "      <td>NaN</td>\n",
       "    </tr>\n",
       "    <tr>\n",
       "      <th>freq</th>\n",
       "      <td>1</td>\n",
       "      <td>3</td>\n",
       "      <td>1</td>\n",
       "      <td>576</td>\n",
       "      <td>NaN</td>\n",
       "    </tr>\n",
       "    <tr>\n",
       "      <th>mean</th>\n",
       "      <td>NaN</td>\n",
       "      <td>NaN</td>\n",
       "      <td>NaN</td>\n",
       "      <td>NaN</td>\n",
       "      <td>1.471478</td>\n",
       "    </tr>\n",
       "    <tr>\n",
       "      <th>std</th>\n",
       "      <td>NaN</td>\n",
       "      <td>NaN</td>\n",
       "      <td>NaN</td>\n",
       "      <td>NaN</td>\n",
       "      <td>0.684153</td>\n",
       "    </tr>\n",
       "    <tr>\n",
       "      <th>min</th>\n",
       "      <td>NaN</td>\n",
       "      <td>NaN</td>\n",
       "      <td>NaN</td>\n",
       "      <td>NaN</td>\n",
       "      <td>1.000000</td>\n",
       "    </tr>\n",
       "    <tr>\n",
       "      <th>25%</th>\n",
       "      <td>NaN</td>\n",
       "      <td>NaN</td>\n",
       "      <td>NaN</td>\n",
       "      <td>NaN</td>\n",
       "      <td>1.000000</td>\n",
       "    </tr>\n",
       "    <tr>\n",
       "      <th>50%</th>\n",
       "      <td>NaN</td>\n",
       "      <td>NaN</td>\n",
       "      <td>NaN</td>\n",
       "      <td>NaN</td>\n",
       "      <td>1.000000</td>\n",
       "    </tr>\n",
       "    <tr>\n",
       "      <th>75%</th>\n",
       "      <td>NaN</td>\n",
       "      <td>NaN</td>\n",
       "      <td>NaN</td>\n",
       "      <td>NaN</td>\n",
       "      <td>2.000000</td>\n",
       "    </tr>\n",
       "    <tr>\n",
       "      <th>max</th>\n",
       "      <td>NaN</td>\n",
       "      <td>NaN</td>\n",
       "      <td>NaN</td>\n",
       "      <td>NaN</td>\n",
       "      <td>3.000000</td>\n",
       "    </tr>\n",
       "  </tbody>\n",
       "</table>\n",
       "</div>"
      ],
      "text/plain": [
       "                                                                                                                                             statement  \\\n",
       "count                                                                                                                                             1455   \n",
       "unique                                                                                                                                            1455   \n",
       "top     \"If the impeachment reaches the house and passes to the senate and isn’t passed the first term is nullified and Trump can run two more terms.\"   \n",
       "freq                                                                                                                                                 1   \n",
       "mean                                                                                                                                               NaN   \n",
       "std                                                                                                                                                NaN   \n",
       "min                                                                                                                                                NaN   \n",
       "25%                                                                                                                                                NaN   \n",
       "50%                                                                                                                                                NaN   \n",
       "75%                                                                                                                                                NaN   \n",
       "max                                                                                                                                                NaN   \n",
       "\n",
       "                 source  \\\n",
       "count              1455   \n",
       "unique             1165   \n",
       "top     Mitch McConnell   \n",
       "freq                  3   \n",
       "mean                NaN   \n",
       "std                 NaN   \n",
       "min                 NaN   \n",
       "25%                 NaN   \n",
       "50%                 NaN   \n",
       "75%                 NaN   \n",
       "max                 NaN   \n",
       "\n",
       "                                                                                                           link  \\\n",
       "count                                                                                                      1455   \n",
       "unique                                                                                                     1455   \n",
       "top     /rhode-island/statements/2013/jan/13/dawson-hodgson/rhode-island-sen-dawson-hodgson-says-state-spends-/   \n",
       "freq                                                                                                          1   \n",
       "mean                                                                                                        NaN   \n",
       "std                                                                                                         NaN   \n",
       "min                                                                                                         NaN   \n",
       "25%                                                                                                         NaN   \n",
       "50%                                                                                                         NaN   \n",
       "75%                                                                                                         NaN   \n",
       "max                                                                                                         NaN   \n",
       "\n",
       "       veracity         freq  \n",
       "count      1455  1455.000000  \n",
       "unique        3          NaN  \n",
       "top       False          NaN  \n",
       "freq        576          NaN  \n",
       "mean        NaN     1.471478  \n",
       "std         NaN     0.684153  \n",
       "min         NaN     1.000000  \n",
       "25%         NaN     1.000000  \n",
       "50%         NaN     1.000000  \n",
       "75%         NaN     2.000000  \n",
       "max         NaN     3.000000  "
      ]
     },
     "execution_count": 29,
     "metadata": {},
     "output_type": "execute_result"
    }
   ],
   "source": [
    "# how many unique sources?\n",
    "balanced_df.describe(include='all')"
   ]
  },
  {
   "cell_type": "code",
   "execution_count": 30,
   "metadata": {},
   "outputs": [
    {
     "data": {
      "text/plain": [
       "False             576\n",
       "True              571\n",
       "Pants on Fire!    308\n",
       "Name: veracity, dtype: int64"
      ]
     },
     "execution_count": 30,
     "metadata": {},
     "output_type": "execute_result"
    }
   ],
   "source": [
    "balanced_df.veracity.value_counts()"
   ]
  },
  {
   "cell_type": "code",
   "execution_count": 31,
   "metadata": {},
   "outputs": [
    {
     "data": {
      "text/plain": [
       "Mitch McConnell       3\n",
       "Jeff Kottkamp         3\n",
       "Kirsten Gillibrand    3\n",
       "Ron Wyden             3\n",
       "Michael Doherty       3\n",
       "Bill O'Reilly         3\n",
       "Jeff Sessions         3\n",
       "Sam Brownback         3\n",
       "Betty Sutton          3\n",
       "Julián Castro         3\n",
       "Name: source, dtype: int64"
      ]
     },
     "execution_count": 31,
     "metadata": {},
     "output_type": "execute_result"
    }
   ],
   "source": [
    "# top 10 sources\n",
    "balanced_df.source.value_counts()[:10]"
   ]
  },
  {
   "cell_type": "markdown",
   "metadata": {},
   "source": [
    "# 1455 balanced rows survived"
   ]
  },
  {
   "cell_type": "code",
   "execution_count": 32,
   "metadata": {},
   "outputs": [
    {
     "data": {
      "text/html": [
       "<div>\n",
       "<style scoped>\n",
       "    .dataframe tbody tr th:only-of-type {\n",
       "        vertical-align: middle;\n",
       "    }\n",
       "\n",
       "    .dataframe tbody tr th {\n",
       "        vertical-align: top;\n",
       "    }\n",
       "\n",
       "    .dataframe thead th {\n",
       "        text-align: right;\n",
       "    }\n",
       "</style>\n",
       "<table border=\"1\" class=\"dataframe\">\n",
       "  <thead>\n",
       "    <tr style=\"text-align: right;\">\n",
       "      <th></th>\n",
       "      <th>statement</th>\n",
       "      <th>source</th>\n",
       "      <th>link</th>\n",
       "      <th>veracity</th>\n",
       "      <th>freq</th>\n",
       "    </tr>\n",
       "  </thead>\n",
       "  <tbody>\n",
       "    <tr>\n",
       "      <th>18</th>\n",
       "      <td>\"The vast majority of Wisconsin students cannot even read, write, or do math at grade level.\"</td>\n",
       "      <td>Jeremy Thiesfeldt</td>\n",
       "      <td>/wisconsin/statements/2019/oct/23/jeremy-thiesfeldt/no-vast-majority-wisconsin-students-are-not-below-/</td>\n",
       "      <td>False</td>\n",
       "      <td>1</td>\n",
       "    </tr>\n",
       "    <tr>\n",
       "      <th>91</th>\n",
       "      <td>\"More than half of death row prisoners are people of color.\"</td>\n",
       "      <td>Gwen Moore</td>\n",
       "      <td>/wisconsin/statements/2019/oct/01/gwen-moore/state-lawmaker-hits-target-claim-racial-background/</td>\n",
       "      <td>True</td>\n",
       "      <td>3</td>\n",
       "    </tr>\n",
       "    <tr>\n",
       "      <th>295</th>\n",
       "      <td>\"Less mass shootings under Trump!\"</td>\n",
       "      <td>Ron Tusler</td>\n",
       "      <td>/wisconsin/statements/2019/aug/06/ron-tusler/pants-fire-state-rep-claims-mass-shootings-are-dow/</td>\n",
       "      <td>Pants on Fire!</td>\n",
       "      <td>1</td>\n",
       "    </tr>\n",
       "    <tr>\n",
       "      <th>476</th>\n",
       "      <td>\"Every day on average 500 people die from gun violence.\"</td>\n",
       "      <td>Ilhan Omar</td>\n",
       "      <td>/truth-o-meter/statements/2019/jun/12/ilhan-omar/rep-ilhan-omars-claim-high-there-arent-500-gun-dea/</td>\n",
       "      <td>False</td>\n",
       "      <td>1</td>\n",
       "    </tr>\n",
       "    <tr>\n",
       "      <th>613</th>\n",
       "      <td>\"We suspended the (Foxconn) work around October, November last year because the weather there was snowy and icy cold.\"</td>\n",
       "      <td>Terry Gou</td>\n",
       "      <td>/wisconsin/statements/2019/may/02/terry-gou/foxconn-chairman-terry-gou-says-extreme-weather-su/</td>\n",
       "      <td>False</td>\n",
       "      <td>1</td>\n",
       "    </tr>\n",
       "    <tr>\n",
       "      <th>668</th>\n",
       "      <td>\"The White House fully cooperated with the Special Counsel’s investigation.\"</td>\n",
       "      <td>William Barr</td>\n",
       "      <td>/truth-o-meter/statements/2019/apr/22/william-barr/did-trump-fully-cooperate-mueller-investigation-no/</td>\n",
       "      <td>False</td>\n",
       "      <td>1</td>\n",
       "    </tr>\n",
       "    <tr>\n",
       "      <th>755</th>\n",
       "      <td>\"Women in Virginia have been incarcerated at an increasingly high rate. It’s around (a) 300 percent increase in the past four or five years.\"</td>\n",
       "      <td>Kaye Kory</td>\n",
       "      <td>/virginia/statements/2019/apr/02/kaye-kory/del-kaye-kory-way-about-surge-women-prisoners-virg/</td>\n",
       "      <td>False</td>\n",
       "      <td>1</td>\n",
       "    </tr>\n",
       "    <tr>\n",
       "      <th>858</th>\n",
       "      <td>\"Since 2011, the gap in high school graduation rates between African-American students and all students has been cut in half, from 6.4 percent to 3.1 percent.\"</td>\n",
       "      <td>Phil Berger</td>\n",
       "      <td>/north-carolina/statements/2019/mar/07/phil-berger/berger-correct-high-school-graduation-rates-africa/</td>\n",
       "      <td>True</td>\n",
       "      <td>1</td>\n",
       "    </tr>\n",
       "    <tr>\n",
       "      <th>1042</th>\n",
       "      <td>\"Nancy Pelosi's bill for alcohol on her flights from Washington to San Fran every week? We pay for it. 1000 dollars. On average 52,000 Bucks, a year for BOOZE. Tax payer money.\"</td>\n",
       "      <td>Chuck Woolery</td>\n",
       "      <td>/punditfact/statements/2019/jan/22/chuck-woolery/no-evidence-back-claim-about-pelosi-bar-tab/</td>\n",
       "      <td>Pants on Fire!</td>\n",
       "      <td>1</td>\n",
       "    </tr>\n",
       "    <tr>\n",
       "      <th>1189</th>\n",
       "      <td>\"We are watching, you know, millions of illegal immigrants cross our borders, and many of them voting in the past election that's what, just a couple weeks ago.\"</td>\n",
       "      <td>Lou Dobbs</td>\n",
       "      <td>/punditfact/statements/2018/nov/16/lou-dobbs/no-evidence-many-illegal-immigrants-voted-midterm-/</td>\n",
       "      <td>Pants on Fire!</td>\n",
       "      <td>1</td>\n",
       "    </tr>\n",
       "  </tbody>\n",
       "</table>\n",
       "</div>"
      ],
      "text/plain": [
       "                                                                                                                                                                              statement  \\\n",
       "18                                                                                        \"The vast majority of Wisconsin students cannot even read, write, or do math at grade level.\"   \n",
       "91                                                                                                                         \"More than half of death row prisoners are people of color.\"   \n",
       "295                                                                                                                                                  \"Less mass shootings under Trump!\"   \n",
       "476                                                                                                                            \"Every day on average 500 people die from gun violence.\"   \n",
       "613                                                              \"We suspended the (Foxconn) work around October, November last year because the weather there was snowy and icy cold.\"   \n",
       "668                                                                                                        \"The White House fully cooperated with the Special Counsel’s investigation.\"   \n",
       "755                                       \"Women in Virginia have been incarcerated at an increasingly high rate. It’s around (a) 300 percent increase in the past four or five years.\"   \n",
       "858                     \"Since 2011, the gap in high school graduation rates between African-American students and all students has been cut in half, from 6.4 percent to 3.1 percent.\"   \n",
       "1042  \"Nancy Pelosi's bill for alcohol on her flights from Washington to San Fran every week? We pay for it. 1000 dollars. On average 52,000 Bucks, a year for BOOZE. Tax payer money.\"   \n",
       "1189                  \"We are watching, you know, millions of illegal immigrants cross our borders, and many of them voting in the past election that's what, just a couple weeks ago.\"   \n",
       "\n",
       "                 source  \\\n",
       "18    Jeremy Thiesfeldt   \n",
       "91           Gwen Moore   \n",
       "295          Ron Tusler   \n",
       "476          Ilhan Omar   \n",
       "613           Terry Gou   \n",
       "668        William Barr   \n",
       "755           Kaye Kory   \n",
       "858         Phil Berger   \n",
       "1042      Chuck Woolery   \n",
       "1189          Lou Dobbs   \n",
       "\n",
       "                                                                                                         link  \\\n",
       "18    /wisconsin/statements/2019/oct/23/jeremy-thiesfeldt/no-vast-majority-wisconsin-students-are-not-below-/   \n",
       "91           /wisconsin/statements/2019/oct/01/gwen-moore/state-lawmaker-hits-target-claim-racial-background/   \n",
       "295          /wisconsin/statements/2019/aug/06/ron-tusler/pants-fire-state-rep-claims-mass-shootings-are-dow/   \n",
       "476      /truth-o-meter/statements/2019/jun/12/ilhan-omar/rep-ilhan-omars-claim-high-there-arent-500-gun-dea/   \n",
       "613           /wisconsin/statements/2019/may/02/terry-gou/foxconn-chairman-terry-gou-says-extreme-weather-su/   \n",
       "668    /truth-o-meter/statements/2019/apr/22/william-barr/did-trump-fully-cooperate-mueller-investigation-no/   \n",
       "755            /virginia/statements/2019/apr/02/kaye-kory/del-kaye-kory-way-about-surge-women-prisoners-virg/   \n",
       "858    /north-carolina/statements/2019/mar/07/phil-berger/berger-correct-high-school-graduation-rates-africa/   \n",
       "1042            /punditfact/statements/2019/jan/22/chuck-woolery/no-evidence-back-claim-about-pelosi-bar-tab/   \n",
       "1189         /punditfact/statements/2018/nov/16/lou-dobbs/no-evidence-many-illegal-immigrants-voted-midterm-/   \n",
       "\n",
       "            veracity  freq  \n",
       "18             False     1  \n",
       "91              True     3  \n",
       "295   Pants on Fire!     1  \n",
       "476            False     1  \n",
       "613            False     1  \n",
       "668            False     1  \n",
       "755            False     1  \n",
       "858             True     1  \n",
       "1042  Pants on Fire!     1  \n",
       "1189  Pants on Fire!     1  "
      ]
     },
     "execution_count": 32,
     "metadata": {},
     "output_type": "execute_result"
    }
   ],
   "source": [
    "balanced_df[:100:10]"
   ]
  },
  {
   "cell_type": "markdown",
   "metadata": {},
   "source": [
    "# Verify the dates of the data"
   ]
  },
  {
   "cell_type": "code",
   "execution_count": 33,
   "metadata": {},
   "outputs": [
    {
     "name": "stderr",
     "output_type": "stream",
     "text": [
      "/anaconda3/lib/python3.7/site-packages/ipykernel_launcher.py:9: SettingWithCopyWarning: \n",
      "A value is trying to be set on a copy of a slice from a DataFrame.\n",
      "Try using .loc[row_indexer,col_indexer] = value instead\n",
      "\n",
      "See the caveats in the documentation: http://pandas.pydata.org/pandas-docs/stable/indexing.html#indexing-view-versus-copy\n",
      "  if __name__ == '__main__':\n"
     ]
    }
   ],
   "source": [
    "# extracting the date from the link column\n",
    "# r() = first group to extract; you can use multiple ()\n",
    "# ?P<column_name> = column name for convenience\n",
    "# \\d = digit\n",
    "# {n} = number of digits to include\n",
    "# . = wildcard\n",
    "# + = greedy search\n",
    "# ? = but not too greedy\n",
    "balanced_df[\"date\"] = balanced_df.link.str.extract(r'(\\d{4}/.+?\\d{2})')"
   ]
  },
  {
   "cell_type": "code",
   "execution_count": 34,
   "metadata": {},
   "outputs": [
    {
     "data": {
      "text/html": [
       "<div>\n",
       "<style scoped>\n",
       "    .dataframe tbody tr th:only-of-type {\n",
       "        vertical-align: middle;\n",
       "    }\n",
       "\n",
       "    .dataframe tbody tr th {\n",
       "        vertical-align: top;\n",
       "    }\n",
       "\n",
       "    .dataframe thead th {\n",
       "        text-align: right;\n",
       "    }\n",
       "</style>\n",
       "<table border=\"1\" class=\"dataframe\">\n",
       "  <thead>\n",
       "    <tr style=\"text-align: right;\">\n",
       "      <th></th>\n",
       "      <th>statement</th>\n",
       "      <th>source</th>\n",
       "      <th>link</th>\n",
       "      <th>veracity</th>\n",
       "      <th>freq</th>\n",
       "      <th>date</th>\n",
       "    </tr>\n",
       "  </thead>\n",
       "  <tbody>\n",
       "    <tr>\n",
       "      <th>18</th>\n",
       "      <td>\"The vast majority of Wisconsin students cannot even read, write, or do math at grade level.\"</td>\n",
       "      <td>Jeremy Thiesfeldt</td>\n",
       "      <td>/wisconsin/statements/2019/oct/23/jeremy-thiesfeldt/no-vast-majority-wisconsin-students-are-not-below-/</td>\n",
       "      <td>False</td>\n",
       "      <td>1</td>\n",
       "      <td>2019/oct/23</td>\n",
       "    </tr>\n",
       "    <tr>\n",
       "      <th>21</th>\n",
       "      <td>\"President Trump has sent 14,000 American troops to the (Middle East) region since May. So he can't tell his political rallies that he's getting troops out of endless wars when he's sending 14 tim...</td>\n",
       "      <td>Brett McGurk</td>\n",
       "      <td>/punditfact/statements/2019/oct/22/brett-mcgurk/mcgurk-right-trump-has-sent-14000-troops-middle-ea/</td>\n",
       "      <td>True</td>\n",
       "      <td>1</td>\n",
       "      <td>2019/oct/22</td>\n",
       "    </tr>\n",
       "    <tr>\n",
       "      <th>27</th>\n",
       "      <td>\"To be clear, I’m not talking about confiscating anybody’s guns.\"</td>\n",
       "      <td>Beto O'Rourke</td>\n",
       "      <td>/truth-o-meter/statements/2019/oct/21/beto-orourke/despite-his-claim-presidential-candidate-beto-orou/</td>\n",
       "      <td>False</td>\n",
       "      <td>3</td>\n",
       "      <td>2019/oct/21</td>\n",
       "    </tr>\n",
       "  </tbody>\n",
       "</table>\n",
       "</div>"
      ],
      "text/plain": [
       "                                                                                                                                                                                                  statement  \\\n",
       "18                                                                                                            \"The vast majority of Wisconsin students cannot even read, write, or do math at grade level.\"   \n",
       "21  \"President Trump has sent 14,000 American troops to the (Middle East) region since May. So he can't tell his political rallies that he's getting troops out of endless wars when he's sending 14 tim...   \n",
       "27                                                                                                                                        \"To be clear, I’m not talking about confiscating anybody’s guns.\"   \n",
       "\n",
       "               source  \\\n",
       "18  Jeremy Thiesfeldt   \n",
       "21       Brett McGurk   \n",
       "27      Beto O'Rourke   \n",
       "\n",
       "                                                                                                       link  \\\n",
       "18  /wisconsin/statements/2019/oct/23/jeremy-thiesfeldt/no-vast-majority-wisconsin-students-are-not-below-/   \n",
       "21      /punditfact/statements/2019/oct/22/brett-mcgurk/mcgurk-right-trump-has-sent-14000-troops-middle-ea/   \n",
       "27   /truth-o-meter/statements/2019/oct/21/beto-orourke/despite-his-claim-presidential-candidate-beto-orou/   \n",
       "\n",
       "   veracity  freq         date  \n",
       "18    False     1  2019/oct/23  \n",
       "21     True     1  2019/oct/22  \n",
       "27    False     3  2019/oct/21  "
      ]
     },
     "execution_count": 34,
     "metadata": {},
     "output_type": "execute_result"
    }
   ],
   "source": [
    "balanced_df.head(3)"
   ]
  },
  {
   "cell_type": "code",
   "execution_count": 35,
   "metadata": {},
   "outputs": [
    {
     "name": "stderr",
     "output_type": "stream",
     "text": [
      "/anaconda3/lib/python3.7/site-packages/pandas/core/generic.py:5096: SettingWithCopyWarning: \n",
      "A value is trying to be set on a copy of a slice from a DataFrame.\n",
      "Try using .loc[row_indexer,col_indexer] = value instead\n",
      "\n",
      "See the caveats in the documentation: http://pandas.pydata.org/pandas-docs/stable/indexing.html#indexing-view-versus-copy\n",
      "  self[name] = value\n"
     ]
    }
   ],
   "source": [
    "# change the date column to a datetime column for convenience\n",
    "balanced_df.date = pd.to_datetime(balanced_df.date,infer_datetime_format=True)"
   ]
  },
  {
   "cell_type": "code",
   "execution_count": 36,
   "metadata": {},
   "outputs": [
    {
     "name": "stdout",
     "output_type": "stream",
     "text": [
      "<class 'pandas.core.frame.DataFrame'>\n",
      "Int64Index: 1455 entries, 18 to 16610\n",
      "Data columns (total 6 columns):\n",
      "statement    1455 non-null object\n",
      "source       1455 non-null object\n",
      "link         1455 non-null object\n",
      "veracity     1455 non-null object\n",
      "freq         1455 non-null int64\n",
      "date         1455 non-null datetime64[ns]\n",
      "dtypes: datetime64[ns](1), int64(1), object(4)\n",
      "memory usage: 79.6+ KB\n"
     ]
    }
   ],
   "source": [
    "balanced_df.info()"
   ]
  },
  {
   "cell_type": "code",
   "execution_count": 37,
   "metadata": {},
   "outputs": [
    {
     "data": {
      "text/html": [
       "<div>\n",
       "<style scoped>\n",
       "    .dataframe tbody tr th:only-of-type {\n",
       "        vertical-align: middle;\n",
       "    }\n",
       "\n",
       "    .dataframe tbody tr th {\n",
       "        vertical-align: top;\n",
       "    }\n",
       "\n",
       "    .dataframe thead th {\n",
       "        text-align: right;\n",
       "    }\n",
       "</style>\n",
       "<table border=\"1\" class=\"dataframe\">\n",
       "  <thead>\n",
       "    <tr style=\"text-align: right;\">\n",
       "      <th></th>\n",
       "      <th>statement</th>\n",
       "      <th>source</th>\n",
       "      <th>link</th>\n",
       "      <th>veracity</th>\n",
       "      <th>freq</th>\n",
       "      <th>date</th>\n",
       "    </tr>\n",
       "  </thead>\n",
       "  <tbody>\n",
       "    <tr>\n",
       "      <th>18</th>\n",
       "      <td>\"The vast majority of Wisconsin students cannot even read, write, or do math at grade level.\"</td>\n",
       "      <td>Jeremy Thiesfeldt</td>\n",
       "      <td>/wisconsin/statements/2019/oct/23/jeremy-thiesfeldt/no-vast-majority-wisconsin-students-are-not-below-/</td>\n",
       "      <td>False</td>\n",
       "      <td>1</td>\n",
       "      <td>2019-10-23</td>\n",
       "    </tr>\n",
       "    <tr>\n",
       "      <th>476</th>\n",
       "      <td>\"Every day on average 500 people die from gun violence.\"</td>\n",
       "      <td>Ilhan Omar</td>\n",
       "      <td>/truth-o-meter/statements/2019/jun/12/ilhan-omar/rep-ilhan-omars-claim-high-there-arent-500-gun-dea/</td>\n",
       "      <td>False</td>\n",
       "      <td>1</td>\n",
       "      <td>2019-06-12</td>\n",
       "    </tr>\n",
       "    <tr>\n",
       "      <th>755</th>\n",
       "      <td>\"Women in Virginia have been incarcerated at an increasingly high rate. It’s around (a) 300 percent increase in the past four or five years.\"</td>\n",
       "      <td>Kaye Kory</td>\n",
       "      <td>/virginia/statements/2019/apr/02/kaye-kory/del-kaye-kory-way-about-surge-women-prisoners-virg/</td>\n",
       "      <td>False</td>\n",
       "      <td>1</td>\n",
       "      <td>2019-04-02</td>\n",
       "    </tr>\n",
       "  </tbody>\n",
       "</table>\n",
       "</div>"
      ],
      "text/plain": [
       "                                                                                                                                         statement  \\\n",
       "18                                                   \"The vast majority of Wisconsin students cannot even read, write, or do math at grade level.\"   \n",
       "476                                                                                       \"Every day on average 500 people die from gun violence.\"   \n",
       "755  \"Women in Virginia have been incarcerated at an increasingly high rate. It’s around (a) 300 percent increase in the past four or five years.\"   \n",
       "\n",
       "                source  \\\n",
       "18   Jeremy Thiesfeldt   \n",
       "476         Ilhan Omar   \n",
       "755          Kaye Kory   \n",
       "\n",
       "                                                                                                        link  \\\n",
       "18   /wisconsin/statements/2019/oct/23/jeremy-thiesfeldt/no-vast-majority-wisconsin-students-are-not-below-/   \n",
       "476     /truth-o-meter/statements/2019/jun/12/ilhan-omar/rep-ilhan-omars-claim-high-there-arent-500-gun-dea/   \n",
       "755           /virginia/statements/2019/apr/02/kaye-kory/del-kaye-kory-way-about-surge-women-prisoners-virg/   \n",
       "\n",
       "    veracity  freq       date  \n",
       "18     False     1 2019-10-23  \n",
       "476    False     1 2019-06-12  \n",
       "755    False     1 2019-04-02  "
      ]
     },
     "execution_count": 37,
     "metadata": {},
     "output_type": "execute_result"
    }
   ],
   "source": [
    "balanced_df[:90:30]"
   ]
  },
  {
   "cell_type": "code",
   "execution_count": 38,
   "metadata": {},
   "outputs": [
    {
     "data": {
      "text/html": [
       "<div>\n",
       "<style scoped>\n",
       "    .dataframe tbody tr th:only-of-type {\n",
       "        vertical-align: middle;\n",
       "    }\n",
       "\n",
       "    .dataframe tbody tr th {\n",
       "        vertical-align: top;\n",
       "    }\n",
       "\n",
       "    .dataframe thead th {\n",
       "        text-align: right;\n",
       "    }\n",
       "</style>\n",
       "<table border=\"1\" class=\"dataframe\">\n",
       "  <thead>\n",
       "    <tr style=\"text-align: right;\">\n",
       "      <th></th>\n",
       "      <th>statement</th>\n",
       "      <th>source</th>\n",
       "      <th>link</th>\n",
       "      <th>veracity</th>\n",
       "      <th>freq</th>\n",
       "      <th>date</th>\n",
       "    </tr>\n",
       "  </thead>\n",
       "  <tbody>\n",
       "    <tr>\n",
       "      <th>18</th>\n",
       "      <td>\"The vast majority of Wisconsin students cannot even read, write, or do math at grade level.\"</td>\n",
       "      <td>Jeremy Thiesfeldt</td>\n",
       "      <td>/wisconsin/statements/2019/oct/23/jeremy-thiesfeldt/no-vast-majority-wisconsin-students-are-not-below-/</td>\n",
       "      <td>False</td>\n",
       "      <td>1</td>\n",
       "      <td>2019-10-23</td>\n",
       "    </tr>\n",
       "    <tr>\n",
       "      <th>21</th>\n",
       "      <td>\"President Trump has sent 14,000 American troops to the (Middle East) region since May. So he can't tell his political rallies that he's getting troops out of endless wars when he's sending 14 tim...</td>\n",
       "      <td>Brett McGurk</td>\n",
       "      <td>/punditfact/statements/2019/oct/22/brett-mcgurk/mcgurk-right-trump-has-sent-14000-troops-middle-ea/</td>\n",
       "      <td>True</td>\n",
       "      <td>1</td>\n",
       "      <td>2019-10-22</td>\n",
       "    </tr>\n",
       "  </tbody>\n",
       "</table>\n",
       "</div>"
      ],
      "text/plain": [
       "                                                                                                                                                                                                  statement  \\\n",
       "18                                                                                                            \"The vast majority of Wisconsin students cannot even read, write, or do math at grade level.\"   \n",
       "21  \"President Trump has sent 14,000 American troops to the (Middle East) region since May. So he can't tell his political rallies that he's getting troops out of endless wars when he's sending 14 tim...   \n",
       "\n",
       "               source  \\\n",
       "18  Jeremy Thiesfeldt   \n",
       "21       Brett McGurk   \n",
       "\n",
       "                                                                                                       link  \\\n",
       "18  /wisconsin/statements/2019/oct/23/jeremy-thiesfeldt/no-vast-majority-wisconsin-students-are-not-below-/   \n",
       "21      /punditfact/statements/2019/oct/22/brett-mcgurk/mcgurk-right-trump-has-sent-14000-troops-middle-ea/   \n",
       "\n",
       "   veracity  freq       date  \n",
       "18    False     1 2019-10-23  \n",
       "21     True     1 2019-10-22  "
      ]
     },
     "execution_count": 38,
     "metadata": {},
     "output_type": "execute_result"
    }
   ],
   "source": [
    "balanced_df.head(2)"
   ]
  },
  {
   "cell_type": "code",
   "execution_count": 39,
   "metadata": {},
   "outputs": [
    {
     "data": {
      "image/png": "[encoded data removed]",
      "text/plain": [
       "<Figure size 432x288 with 1 Axes>"
      ]
     },
     "metadata": {
      "needs_background": "light"
     },
     "output_type": "display_data"
    }
   ],
   "source": [
    "#by year\n",
    "ax = balanced_df.groupby(balanced_df.date.dt.year).count().plot(kind=\"bar\")\n",
    "ax.legend_ = None\n",
    "plt.title(\"Distribution by Year\")\n",
    "plt.show()"
   ]
  },
  {
   "cell_type": "code",
   "execution_count": 40,
   "metadata": {},
   "outputs": [
    {
     "data": {
      "image/png": "[encoded data removed]",
      "text/plain": [
       "<Figure size 432x288 with 1 Axes>"
      ]
     },
     "metadata": {
      "needs_background": "light"
     },
     "output_type": "display_data"
    }
   ],
   "source": [
    "#by month\n",
    "ax = balanced_df.groupby(balanced_df.date.dt.month).count().plot(kind=\"bar\")\n",
    "ax.legend_ = None\n",
    "plt.title(\"Distribution by Month\")\n",
    "plt.show()"
   ]
  },
  {
   "cell_type": "markdown",
   "metadata": {},
   "source": [
    "# The quality and balance of the data has improved"
   ]
  },
  {
   "cell_type": "code",
   "execution_count": 41,
   "metadata": {},
   "outputs": [],
   "source": [
    "cleaned_df = balanced_df[[\"date\",\"source\",\"freq\",\"statement\",\"veracity\"]]"
   ]
  },
  {
   "cell_type": "code",
   "execution_count": 42,
   "metadata": {
    "scrolled": false
   },
   "outputs": [
    {
     "data": {
      "text/html": [
       "<div>\n",
       "<style scoped>\n",
       "    .dataframe tbody tr th:only-of-type {\n",
       "        vertical-align: middle;\n",
       "    }\n",
       "\n",
       "    .dataframe tbody tr th {\n",
       "        vertical-align: top;\n",
       "    }\n",
       "\n",
       "    .dataframe thead th {\n",
       "        text-align: right;\n",
       "    }\n",
       "</style>\n",
       "<table border=\"1\" class=\"dataframe\">\n",
       "  <thead>\n",
       "    <tr style=\"text-align: right;\">\n",
       "      <th></th>\n",
       "      <th>date</th>\n",
       "      <th>source</th>\n",
       "      <th>freq</th>\n",
       "      <th>statement</th>\n",
       "      <th>veracity</th>\n",
       "    </tr>\n",
       "  </thead>\n",
       "  <tbody>\n",
       "    <tr>\n",
       "      <th>18</th>\n",
       "      <td>2019-10-23</td>\n",
       "      <td>Jeremy Thiesfeldt</td>\n",
       "      <td>1</td>\n",
       "      <td>\"The vast majority of Wisconsin students cannot even read, write, or do math at grade level.\"</td>\n",
       "      <td>False</td>\n",
       "    </tr>\n",
       "    <tr>\n",
       "      <th>91</th>\n",
       "      <td>2019-10-01</td>\n",
       "      <td>Gwen Moore</td>\n",
       "      <td>3</td>\n",
       "      <td>\"More than half of death row prisoners are people of color.\"</td>\n",
       "      <td>True</td>\n",
       "    </tr>\n",
       "    <tr>\n",
       "      <th>295</th>\n",
       "      <td>2019-08-06</td>\n",
       "      <td>Ron Tusler</td>\n",
       "      <td>1</td>\n",
       "      <td>\"Less mass shootings under Trump!\"</td>\n",
       "      <td>Pants on Fire!</td>\n",
       "    </tr>\n",
       "    <tr>\n",
       "      <th>476</th>\n",
       "      <td>2019-06-12</td>\n",
       "      <td>Ilhan Omar</td>\n",
       "      <td>1</td>\n",
       "      <td>\"Every day on average 500 people die from gun violence.\"</td>\n",
       "      <td>False</td>\n",
       "    </tr>\n",
       "    <tr>\n",
       "      <th>613</th>\n",
       "      <td>2019-05-02</td>\n",
       "      <td>Terry Gou</td>\n",
       "      <td>1</td>\n",
       "      <td>\"We suspended the (Foxconn) work around October, November last year because the weather there was snowy and icy cold.\"</td>\n",
       "      <td>False</td>\n",
       "    </tr>\n",
       "    <tr>\n",
       "      <th>668</th>\n",
       "      <td>2019-04-22</td>\n",
       "      <td>William Barr</td>\n",
       "      <td>1</td>\n",
       "      <td>\"The White House fully cooperated with the Special Counsel’s investigation.\"</td>\n",
       "      <td>False</td>\n",
       "    </tr>\n",
       "    <tr>\n",
       "      <th>755</th>\n",
       "      <td>2019-04-02</td>\n",
       "      <td>Kaye Kory</td>\n",
       "      <td>1</td>\n",
       "      <td>\"Women in Virginia have been incarcerated at an increasingly high rate. It’s around (a) 300 percent increase in the past four or five years.\"</td>\n",
       "      <td>False</td>\n",
       "    </tr>\n",
       "    <tr>\n",
       "      <th>858</th>\n",
       "      <td>2019-03-07</td>\n",
       "      <td>Phil Berger</td>\n",
       "      <td>1</td>\n",
       "      <td>\"Since 2011, the gap in high school graduation rates between African-American students and all students has been cut in half, from 6.4 percent to 3.1 percent.\"</td>\n",
       "      <td>True</td>\n",
       "    </tr>\n",
       "    <tr>\n",
       "      <th>1042</th>\n",
       "      <td>2019-01-22</td>\n",
       "      <td>Chuck Woolery</td>\n",
       "      <td>1</td>\n",
       "      <td>\"Nancy Pelosi's bill for alcohol on her flights from Washington to San Fran every week? We pay for it. 1000 dollars. On average 52,000 Bucks, a year for BOOZE. Tax payer money.\"</td>\n",
       "      <td>Pants on Fire!</td>\n",
       "    </tr>\n",
       "    <tr>\n",
       "      <th>1189</th>\n",
       "      <td>2018-11-16</td>\n",
       "      <td>Lou Dobbs</td>\n",
       "      <td>1</td>\n",
       "      <td>\"We are watching, you know, millions of illegal immigrants cross our borders, and many of them voting in the past election that's what, just a couple weeks ago.\"</td>\n",
       "      <td>Pants on Fire!</td>\n",
       "    </tr>\n",
       "  </tbody>\n",
       "</table>\n",
       "</div>"
      ],
      "text/plain": [
       "           date             source  freq  \\\n",
       "18   2019-10-23  Jeremy Thiesfeldt     1   \n",
       "91   2019-10-01         Gwen Moore     3   \n",
       "295  2019-08-06         Ron Tusler     1   \n",
       "476  2019-06-12         Ilhan Omar     1   \n",
       "613  2019-05-02          Terry Gou     1   \n",
       "668  2019-04-22       William Barr     1   \n",
       "755  2019-04-02          Kaye Kory     1   \n",
       "858  2019-03-07        Phil Berger     1   \n",
       "1042 2019-01-22      Chuck Woolery     1   \n",
       "1189 2018-11-16          Lou Dobbs     1   \n",
       "\n",
       "                                                                                                                                                                              statement  \\\n",
       "18                                                                                        \"The vast majority of Wisconsin students cannot even read, write, or do math at grade level.\"   \n",
       "91                                                                                                                         \"More than half of death row prisoners are people of color.\"   \n",
       "295                                                                                                                                                  \"Less mass shootings under Trump!\"   \n",
       "476                                                                                                                            \"Every day on average 500 people die from gun violence.\"   \n",
       "613                                                              \"We suspended the (Foxconn) work around October, November last year because the weather there was snowy and icy cold.\"   \n",
       "668                                                                                                        \"The White House fully cooperated with the Special Counsel’s investigation.\"   \n",
       "755                                       \"Women in Virginia have been incarcerated at an increasingly high rate. It’s around (a) 300 percent increase in the past four or five years.\"   \n",
       "858                     \"Since 2011, the gap in high school graduation rates between African-American students and all students has been cut in half, from 6.4 percent to 3.1 percent.\"   \n",
       "1042  \"Nancy Pelosi's bill for alcohol on her flights from Washington to San Fran every week? We pay for it. 1000 dollars. On average 52,000 Bucks, a year for BOOZE. Tax payer money.\"   \n",
       "1189                  \"We are watching, you know, millions of illegal immigrants cross our borders, and many of them voting in the past election that's what, just a couple weeks ago.\"   \n",
       "\n",
       "            veracity  \n",
       "18             False  \n",
       "91              True  \n",
       "295   Pants on Fire!  \n",
       "476            False  \n",
       "613            False  \n",
       "668            False  \n",
       "755            False  \n",
       "858             True  \n",
       "1042  Pants on Fire!  \n",
       "1189  Pants on Fire!  "
      ]
     },
     "execution_count": 42,
     "metadata": {},
     "output_type": "execute_result"
    }
   ],
   "source": [
    "cleaned_df[:100:10]"
   ]
  },
  {
   "cell_type": "code",
   "execution_count": 43,
   "metadata": {},
   "outputs": [],
   "source": [
    "cleaned_df[\"length\"] = cleaned_df.statement.str.len()"
   ]
  },
  {
   "cell_type": "code",
   "execution_count": 44,
   "metadata": {},
   "outputs": [
    {
     "data": {
      "text/html": [
       "<div>\n",
       "<style scoped>\n",
       "    .dataframe tbody tr th:only-of-type {\n",
       "        vertical-align: middle;\n",
       "    }\n",
       "\n",
       "    .dataframe tbody tr th {\n",
       "        vertical-align: top;\n",
       "    }\n",
       "\n",
       "    .dataframe thead th {\n",
       "        text-align: right;\n",
       "    }\n",
       "</style>\n",
       "<table border=\"1\" class=\"dataframe\">\n",
       "  <thead>\n",
       "    <tr style=\"text-align: right;\">\n",
       "      <th></th>\n",
       "      <th>freq</th>\n",
       "      <th>length</th>\n",
       "    </tr>\n",
       "  </thead>\n",
       "  <tbody>\n",
       "    <tr>\n",
       "      <th>count</th>\n",
       "      <td>1455.000000</td>\n",
       "      <td>1455.000000</td>\n",
       "    </tr>\n",
       "    <tr>\n",
       "      <th>mean</th>\n",
       "      <td>1.471478</td>\n",
       "      <td>103.346392</td>\n",
       "    </tr>\n",
       "    <tr>\n",
       "      <th>std</th>\n",
       "      <td>0.684153</td>\n",
       "      <td>44.491174</td>\n",
       "    </tr>\n",
       "    <tr>\n",
       "      <th>min</th>\n",
       "      <td>1.000000</td>\n",
       "      <td>17.000000</td>\n",
       "    </tr>\n",
       "    <tr>\n",
       "      <th>25%</th>\n",
       "      <td>1.000000</td>\n",
       "      <td>72.000000</td>\n",
       "    </tr>\n",
       "    <tr>\n",
       "      <th>50%</th>\n",
       "      <td>1.000000</td>\n",
       "      <td>94.000000</td>\n",
       "    </tr>\n",
       "    <tr>\n",
       "      <th>75%</th>\n",
       "      <td>2.000000</td>\n",
       "      <td>128.000000</td>\n",
       "    </tr>\n",
       "    <tr>\n",
       "      <th>max</th>\n",
       "      <td>3.000000</td>\n",
       "      <td>295.000000</td>\n",
       "    </tr>\n",
       "  </tbody>\n",
       "</table>\n",
       "</div>"
      ],
      "text/plain": [
       "              freq       length\n",
       "count  1455.000000  1455.000000\n",
       "mean      1.471478   103.346392\n",
       "std       0.684153    44.491174\n",
       "min       1.000000    17.000000\n",
       "25%       1.000000    72.000000\n",
       "50%       1.000000    94.000000\n",
       "75%       2.000000   128.000000\n",
       "max       3.000000   295.000000"
      ]
     },
     "execution_count": 44,
     "metadata": {},
     "output_type": "execute_result"
    }
   ],
   "source": [
    "cleaned_df.describe()"
   ]
  },
  {
   "cell_type": "code",
   "execution_count": 45,
   "metadata": {},
   "outputs": [
    {
     "data": {
      "text/html": [
       "<div>\n",
       "<style scoped>\n",
       "    .dataframe tbody tr th:only-of-type {\n",
       "        vertical-align: middle;\n",
       "    }\n",
       "\n",
       "    .dataframe tbody tr th {\n",
       "        vertical-align: top;\n",
       "    }\n",
       "\n",
       "    .dataframe thead th {\n",
       "        text-align: right;\n",
       "    }\n",
       "</style>\n",
       "<table border=\"1\" class=\"dataframe\">\n",
       "  <thead>\n",
       "    <tr style=\"text-align: right;\">\n",
       "      <th></th>\n",
       "      <th>date</th>\n",
       "      <th>source</th>\n",
       "      <th>freq</th>\n",
       "      <th>statement</th>\n",
       "      <th>veracity</th>\n",
       "      <th>length</th>\n",
       "    </tr>\n",
       "  </thead>\n",
       "  <tbody>\n",
       "    <tr>\n",
       "      <th>524</th>\n",
       "      <td>2019-05-29</td>\n",
       "      <td>Justin Amash</td>\n",
       "      <td>1</td>\n",
       "      <td>\"In fact, ‘high Crimes and Misdemeanors’ is not defined in the Constitution and does not require corresponding statutory charges. The context implies conduct that violates the public trust—and tha...</td>\n",
       "      <td>True</td>\n",
       "      <td>277</td>\n",
       "    </tr>\n",
       "    <tr>\n",
       "      <th>2122</th>\n",
       "      <td>2018-04-13</td>\n",
       "      <td>Jerry Brown</td>\n",
       "      <td>1</td>\n",
       "      <td>\"Here are the facts: there is no massive wave of migrants pouring into California. Overall immigrant apprehensions on the border last year were as low as they’ve been in nearly 50 years (and 85 pe...</td>\n",
       "      <td>True</td>\n",
       "      <td>256</td>\n",
       "    </tr>\n",
       "    <tr>\n",
       "      <th>2688</th>\n",
       "      <td>2017-10-27</td>\n",
       "      <td>Delaine Eastin</td>\n",
       "      <td>1</td>\n",
       "      <td>\"Ninety percent of people born in the 1940s ended up doing better financially than their parents. But those born in the 1980s, the much-maligned Millennials, have only a 50-50 chance of doing bett...</td>\n",
       "      <td>True</td>\n",
       "      <td>292</td>\n",
       "    </tr>\n",
       "    <tr>\n",
       "      <th>2838</th>\n",
       "      <td>2017-09-15</td>\n",
       "      <td>Kris Kobach</td>\n",
       "      <td>1</td>\n",
       "      <td>\"Facts have come to light that indicate that a pivotal, close election was likely changed through voter fraud on November 8, 2016: New Hampshire’s U.S. Senate Seat, and perhaps also New Hampshire’...</td>\n",
       "      <td>False</td>\n",
       "      <td>257</td>\n",
       "    </tr>\n",
       "    <tr>\n",
       "      <th>3504</th>\n",
       "      <td>2017-03-12</td>\n",
       "      <td>Tom Price</td>\n",
       "      <td>1</td>\n",
       "      <td>\"The number of individuals who actually got coverage through the exchange who didn't have coverage before, or who weren't eligible for Medicaid before is relatively small. So we've turned things u...</td>\n",
       "      <td>False</td>\n",
       "      <td>273</td>\n",
       "    </tr>\n",
       "    <tr>\n",
       "      <th>4110</th>\n",
       "      <td>2016-10-07</td>\n",
       "      <td>Loretta Sanchez</td>\n",
       "      <td>2</td>\n",
       "      <td>\"If you give guns to gangs, you can get out of jail free, if (California’s Proposition 57) passes. If you do a drive-by shooting, you can get out of jail free, if Proposition 57 passes. If you dis...</td>\n",
       "      <td>False</td>\n",
       "      <td>256</td>\n",
       "    </tr>\n",
       "    <tr>\n",
       "      <th>4466</th>\n",
       "      <td>2016-08-04</td>\n",
       "      <td>Richard Durbin</td>\n",
       "      <td>3</td>\n",
       "      <td>\"Illinois suffered 1,652 overdose deaths in 2014 ... of which 40 percent were associated with heroin. Illinois is ranked number one in the nation for a decline in treatment capacity between 2007 a...</td>\n",
       "      <td>True</td>\n",
       "      <td>291</td>\n",
       "    </tr>\n",
       "    <tr>\n",
       "      <th>7151</th>\n",
       "      <td>2014-10-02</td>\n",
       "      <td>Vincent \"Buddy\" Cianci</td>\n",
       "      <td>2</td>\n",
       "      <td>\"[When I was mayor] Providence was one of the five renaissance cities of America, according to USA Today in those days. Money magazine said it was the fifth best city to live in in America. In add...</td>\n",
       "      <td>True</td>\n",
       "      <td>295</td>\n",
       "    </tr>\n",
       "    <tr>\n",
       "      <th>8348</th>\n",
       "      <td>2014-01-12</td>\n",
       "      <td>Joseph Cryan</td>\n",
       "      <td>1</td>\n",
       "      <td>\"What do Rutgers University, Kean University, Montclair State University, New Jersey City University, Stockton College, Rowan University and William Paterson all have in common? They all graduate ...</td>\n",
       "      <td>True</td>\n",
       "      <td>254</td>\n",
       "    </tr>\n",
       "    <tr>\n",
       "      <th>16080</th>\n",
       "      <td>2008-07-02</td>\n",
       "      <td>Bob Barr</td>\n",
       "      <td>1</td>\n",
       "      <td>\"The legislation ... that Senator McCain supports would provide the authority for the federal government to surveille American citizens in their own country without any suspicion whatsoever that t...</td>\n",
       "      <td>True</td>\n",
       "      <td>271</td>\n",
       "    </tr>\n",
       "  </tbody>\n",
       "</table>\n",
       "</div>"
      ],
      "text/plain": [
       "            date                  source  freq  \\\n",
       "524   2019-05-29            Justin Amash     1   \n",
       "2122  2018-04-13             Jerry Brown     1   \n",
       "2688  2017-10-27          Delaine Eastin     1   \n",
       "2838  2017-09-15             Kris Kobach     1   \n",
       "3504  2017-03-12               Tom Price     1   \n",
       "4110  2016-10-07         Loretta Sanchez     2   \n",
       "4466  2016-08-04          Richard Durbin     3   \n",
       "7151  2014-10-02  Vincent \"Buddy\" Cianci     2   \n",
       "8348  2014-01-12            Joseph Cryan     1   \n",
       "16080 2008-07-02                Bob Barr     1   \n",
       "\n",
       "                                                                                                                                                                                                     statement  \\\n",
       "524    \"In fact, ‘high Crimes and Misdemeanors’ is not defined in the Constitution and does not require corresponding statutory charges. The context implies conduct that violates the public trust—and tha...   \n",
       "2122   \"Here are the facts: there is no massive wave of migrants pouring into California. Overall immigrant apprehensions on the border last year were as low as they’ve been in nearly 50 years (and 85 pe...   \n",
       "2688   \"Ninety percent of people born in the 1940s ended up doing better financially than their parents. But those born in the 1980s, the much-maligned Millennials, have only a 50-50 chance of doing bett...   \n",
       "2838   \"Facts have come to light that indicate that a pivotal, close election was likely changed through voter fraud on November 8, 2016: New Hampshire’s U.S. Senate Seat, and perhaps also New Hampshire’...   \n",
       "3504   \"The number of individuals who actually got coverage through the exchange who didn't have coverage before, or who weren't eligible for Medicaid before is relatively small. So we've turned things u...   \n",
       "4110   \"If you give guns to gangs, you can get out of jail free, if (California’s Proposition 57) passes. If you do a drive-by shooting, you can get out of jail free, if Proposition 57 passes. If you dis...   \n",
       "4466   \"Illinois suffered 1,652 overdose deaths in 2014 ... of which 40 percent were associated with heroin. Illinois is ranked number one in the nation for a decline in treatment capacity between 2007 a...   \n",
       "7151   \"[When I was mayor] Providence was one of the five renaissance cities of America, according to USA Today in those days. Money magazine said it was the fifth best city to live in in America. In add...   \n",
       "8348   \"What do Rutgers University, Kean University, Montclair State University, New Jersey City University, Stockton College, Rowan University and William Paterson all have in common? They all graduate ...   \n",
       "16080  \"The legislation ... that Senator McCain supports would provide the authority for the federal government to surveille American citizens in their own country without any suspicion whatsoever that t...   \n",
       "\n",
       "      veracity  length  \n",
       "524       True     277  \n",
       "2122      True     256  \n",
       "2688      True     292  \n",
       "2838     False     257  \n",
       "3504     False     273  \n",
       "4110     False     256  \n",
       "4466      True     291  \n",
       "7151      True     295  \n",
       "8348      True     254  \n",
       "16080     True     271  "
      ]
     },
     "execution_count": 45,
     "metadata": {},
     "output_type": "execute_result"
    }
   ],
   "source": [
    "cleaned_df[cleaned_df.length > 250][:100]"
   ]
  },
  {
   "cell_type": "code",
   "execution_count": 46,
   "metadata": {
    "scrolled": false
   },
   "outputs": [
    {
     "data": {
      "text/html": [
       "<div>\n",
       "<style scoped>\n",
       "    .dataframe tbody tr th:only-of-type {\n",
       "        vertical-align: middle;\n",
       "    }\n",
       "\n",
       "    .dataframe tbody tr th {\n",
       "        vertical-align: top;\n",
       "    }\n",
       "\n",
       "    .dataframe thead th {\n",
       "        text-align: right;\n",
       "    }\n",
       "</style>\n",
       "<table border=\"1\" class=\"dataframe\">\n",
       "  <thead>\n",
       "    <tr style=\"text-align: right;\">\n",
       "      <th></th>\n",
       "      <th>date</th>\n",
       "      <th>source</th>\n",
       "      <th>freq</th>\n",
       "      <th>statement</th>\n",
       "      <th>veracity</th>\n",
       "      <th>length</th>\n",
       "    </tr>\n",
       "  </thead>\n",
       "  <tbody>\n",
       "    <tr>\n",
       "      <th>15876</th>\n",
       "      <td>2008-10-01</td>\n",
       "      <td>Defenders of Wildlife Action Fund</td>\n",
       "      <td>1</td>\n",
       "      <td>\"Palin (proposed) a $150 bounty for the severed foreleg of each killed wolf.\"</td>\n",
       "      <td>True</td>\n",
       "      <td>77</td>\n",
       "    </tr>\n",
       "  </tbody>\n",
       "</table>\n",
       "</div>"
      ],
      "text/plain": [
       "            date                             source  freq  \\\n",
       "15876 2008-10-01  Defenders of Wildlife Action Fund     1   \n",
       "\n",
       "                                                                           statement  \\\n",
       "15876  \"Palin (proposed) a $150 bounty for the severed foreleg of each killed wolf.\"   \n",
       "\n",
       "      veracity  length  \n",
       "15876     True      77  "
      ]
     },
     "execution_count": 46,
     "metadata": {},
     "output_type": "execute_result"
    }
   ],
   "source": [
    "cleaned_df[cleaned_df.statement.str.match(r\"\\\"Palin\")==True]"
   ]
  },
  {
   "cell_type": "code",
   "execution_count": 47,
   "metadata": {},
   "outputs": [
    {
     "data": {
      "text/html": [
       "<div>\n",
       "<style scoped>\n",
       "    .dataframe tbody tr th:only-of-type {\n",
       "        vertical-align: middle;\n",
       "    }\n",
       "\n",
       "    .dataframe tbody tr th {\n",
       "        vertical-align: top;\n",
       "    }\n",
       "\n",
       "    .dataframe thead th {\n",
       "        text-align: right;\n",
       "    }\n",
       "</style>\n",
       "<table border=\"1\" class=\"dataframe\">\n",
       "  <thead>\n",
       "    <tr style=\"text-align: right;\">\n",
       "      <th></th>\n",
       "      <th>date</th>\n",
       "      <th>source</th>\n",
       "      <th>freq</th>\n",
       "      <th>statement</th>\n",
       "      <th>veracity</th>\n",
       "      <th>length</th>\n",
       "    </tr>\n",
       "  </thead>\n",
       "  <tbody>\n",
       "    <tr>\n",
       "      <th>18</th>\n",
       "      <td>2019-10-23</td>\n",
       "      <td>Jeremy Thiesfeldt</td>\n",
       "      <td>1</td>\n",
       "      <td>\"The vast majority of Wisconsin students cannot even read, write, or do math at grade level.\"</td>\n",
       "      <td>False</td>\n",
       "      <td>93</td>\n",
       "    </tr>\n",
       "    <tr>\n",
       "      <th>21</th>\n",
       "      <td>2019-10-22</td>\n",
       "      <td>Brett McGurk</td>\n",
       "      <td>1</td>\n",
       "      <td>\"President Trump has sent 14,000 American troops to the (Middle East) region since May. So he can't tell his political rallies that he's getting troops out of endless wars when he's sending 14 tim...</td>\n",
       "      <td>True</td>\n",
       "      <td>232</td>\n",
       "    </tr>\n",
       "  </tbody>\n",
       "</table>\n",
       "</div>"
      ],
      "text/plain": [
       "         date             source  freq  \\\n",
       "18 2019-10-23  Jeremy Thiesfeldt     1   \n",
       "21 2019-10-22       Brett McGurk     1   \n",
       "\n",
       "                                                                                                                                                                                                  statement  \\\n",
       "18                                                                                                            \"The vast majority of Wisconsin students cannot even read, write, or do math at grade level.\"   \n",
       "21  \"President Trump has sent 14,000 American troops to the (Middle East) region since May. So he can't tell his political rallies that he's getting troops out of endless wars when he's sending 14 tim...   \n",
       "\n",
       "   veracity  length  \n",
       "18    False      93  \n",
       "21     True     232  "
      ]
     },
     "execution_count": 47,
     "metadata": {},
     "output_type": "execute_result"
    }
   ],
   "source": [
    "cleaned_df.head(2)"
   ]
  },
  {
   "cell_type": "code",
   "execution_count": 48,
   "metadata": {},
   "outputs": [],
   "source": [
    "cleaned_df.to_csv('politifact_cleaned_data.csv')"
   ]
  },
  {
   "cell_type": "code",
   "execution_count": 54,
   "metadata": {},
   "outputs": [
    {
     "data": {
      "text/html": [
       "<div>\n",
       "<style scoped>\n",
       "    .dataframe tbody tr th:only-of-type {\n",
       "        vertical-align: middle;\n",
       "    }\n",
       "\n",
       "    .dataframe tbody tr th {\n",
       "        vertical-align: top;\n",
       "    }\n",
       "\n",
       "    .dataframe thead th {\n",
       "        text-align: right;\n",
       "    }\n",
       "</style>\n",
       "<table border=\"1\" class=\"dataframe\">\n",
       "  <thead>\n",
       "    <tr style=\"text-align: right;\">\n",
       "      <th></th>\n",
       "      <th>statement</th>\n",
       "      <th>source</th>\n",
       "      <th>link</th>\n",
       "      <th>veracity</th>\n",
       "      <th>freq</th>\n",
       "    </tr>\n",
       "  </thead>\n",
       "  <tbody>\n",
       "    <tr>\n",
       "      <th>35</th>\n",
       "      <td>\"The Kurds are much safer right now.\"</td>\n",
       "      <td>Donald Trump</td>\n",
       "      <td>/truth-o-meter/statements/2019/oct/16/donald-trump/after-attacks-turkey-trump-falsely-claims-kurds-sy/</td>\n",
       "      <td>False</td>\n",
       "      <td>181</td>\n",
       "    </tr>\n",
       "    <tr>\n",
       "      <th>58</th>\n",
       "      <td>\"Fact: Joe Biden pressured Ukraine to fire its prosecutor .... Fact: the prosecutor said he was forced out for leading a corruption probe into Hunter Biden's company. Fact: Democrats want to impea...</td>\n",
       "      <td>Donald Trump</td>\n",
       "      <td>/truth-o-meter/statements/2019/oct/11/donald-trump/trump-ad-misleads-about-biden-ukraine-and-prosecut/</td>\n",
       "      <td>False</td>\n",
       "      <td>181</td>\n",
       "    </tr>\n",
       "  </tbody>\n",
       "</table>\n",
       "</div>"
      ],
      "text/plain": [
       "                                                                                                                                                                                                  statement  \\\n",
       "35                                                                                                                                                                    \"The Kurds are much safer right now.\"   \n",
       "58  \"Fact: Joe Biden pressured Ukraine to fire its prosecutor .... Fact: the prosecutor said he was forced out for leading a corruption probe into Hunter Biden's company. Fact: Democrats want to impea...   \n",
       "\n",
       "          source  \\\n",
       "35  Donald Trump   \n",
       "58  Donald Trump   \n",
       "\n",
       "                                                                                                      link  \\\n",
       "35  /truth-o-meter/statements/2019/oct/16/donald-trump/after-attacks-turkey-trump-falsely-claims-kurds-sy/   \n",
       "58  /truth-o-meter/statements/2019/oct/11/donald-trump/trump-ad-misleads-about-biden-ukraine-and-prosecut/   \n",
       "\n",
       "   veracity  freq  \n",
       "35    False   181  \n",
       "58    False   181  "
      ]
     },
     "execution_count": 54,
     "metadata": {},
     "output_type": "execute_result"
    }
   ],
   "source": [
    "trump_df = quote_df[quote_df.source == \"Donald Trump\"]\n",
    "trump_df.head(2)"
   ]
  },
  {
   "cell_type": "code",
   "execution_count": 55,
   "metadata": {},
   "outputs": [
    {
     "data": {
      "text/html": [
       "<div>\n",
       "<style scoped>\n",
       "    .dataframe tbody tr th:only-of-type {\n",
       "        vertical-align: middle;\n",
       "    }\n",
       "\n",
       "    .dataframe tbody tr th {\n",
       "        vertical-align: top;\n",
       "    }\n",
       "\n",
       "    .dataframe thead th {\n",
       "        text-align: right;\n",
       "    }\n",
       "</style>\n",
       "<table border=\"1\" class=\"dataframe\">\n",
       "  <thead>\n",
       "    <tr style=\"text-align: right;\">\n",
       "      <th></th>\n",
       "      <th>statement</th>\n",
       "      <th>source</th>\n",
       "      <th>link</th>\n",
       "      <th>veracity</th>\n",
       "      <th>freq</th>\n",
       "    </tr>\n",
       "  </thead>\n",
       "  <tbody>\n",
       "    <tr>\n",
       "      <th>4075</th>\n",
       "      <td>\"Refugees are subject to more rigorous screening than the average tourist in the U.S.\"</td>\n",
       "      <td>Barack Obama</td>\n",
       "      <td>/global-news/statements/2016/oct/13/barack-obama/refugee-summit-obama-claims-refugees-us-are-screen/</td>\n",
       "      <td>True</td>\n",
       "      <td>101</td>\n",
       "    </tr>\n",
       "    <tr>\n",
       "      <th>4672</th>\n",
       "      <td>\"The steel industry is producing as much steel in the United States as it ever was. It’s just (that) it needs one-tenth of the workers that it used to.\"</td>\n",
       "      <td>Barack Obama</td>\n",
       "      <td>/truth-o-meter/statements/2016/jul/05/barack-obama/barack-obama-wrong-about-size-us-steel-production-/</td>\n",
       "      <td>False</td>\n",
       "      <td>101</td>\n",
       "    </tr>\n",
       "  </tbody>\n",
       "</table>\n",
       "</div>"
      ],
      "text/plain": [
       "                                                                                                                                                     statement  \\\n",
       "4075                                                                    \"Refugees are subject to more rigorous screening than the average tourist in the U.S.\"   \n",
       "4672  \"The steel industry is producing as much steel in the United States as it ever was. It’s just (that) it needs one-tenth of the workers that it used to.\"   \n",
       "\n",
       "            source  \\\n",
       "4075  Barack Obama   \n",
       "4672  Barack Obama   \n",
       "\n",
       "                                                                                                        link  \\\n",
       "4075    /global-news/statements/2016/oct/13/barack-obama/refugee-summit-obama-claims-refugees-us-are-screen/   \n",
       "4672  /truth-o-meter/statements/2016/jul/05/barack-obama/barack-obama-wrong-about-size-us-steel-production-/   \n",
       "\n",
       "     veracity  freq  \n",
       "4075     True   101  \n",
       "4672    False   101  "
      ]
     },
     "execution_count": 55,
     "metadata": {},
     "output_type": "execute_result"
    }
   ],
   "source": [
    "obama_df = quote_df[quote_df.source == \"Barack Obama\"]\n",
    "obama_df.head(2)"
   ]
  },
  {
   "cell_type": "code",
   "execution_count": 56,
   "metadata": {},
   "outputs": [],
   "source": [
    "trump_df.to_csv('politifact_trump_data.csv')\n",
    "obama_df.to_csv('politifact_obama_data.csv')"
   ]
  }
 ],
 "metadata": {
  "kernelspec": {
   "display_name": "Python 3",
   "language": "python",
   "name": "python3"
  },
  "language_info": {
   "codemirror_mode": {
    "name": "ipython",
    "version": 3
   },
   "file_extension": ".py",
   "mimetype": "text/x-python",
   "name": "python",
   "nbconvert_exporter": "python",
   "pygments_lexer": "ipython3",
   "version": "3.7.3"
  }
 },
 "nbformat": 4,
 "nbformat_minor": 2
}
